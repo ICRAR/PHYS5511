{
  "nbformat": 4,
  "nbformat_minor": 0,
  "metadata": {
    "colab": {
      "name": "linear_classifier.ipynb",
      "version": "0.3.2",
      "provenance": [],
      "toc_visible": true,
      "include_colab_link": true
    },
    "kernelspec": {
      "name": "python3",
      "display_name": "Python 3"
    }
  },
  "cells": [
    {
      "cell_type": "markdown",
      "metadata": {
        "id": "view-in-github",
        "colab_type": "text"
      },
      "source": [
        "<a href=\"https://colab.research.google.com/github/ICRAR/PHYS5511/blob/master/2019/week03/linear_classifier.ipynb\" target=\"_parent\"><img src=\"https://colab.research.google.com/assets/colab-badge.svg\" alt=\"Open In Colab\"/></a>"
      ]
    },
    {
      "cell_type": "markdown",
      "metadata": {
        "id": "QOgkw-mggi9a",
        "colab_type": "text"
      },
      "source": [
        "Adapted from the \"famous\" ML course CS231  [linear classifier assignment one](http://cs231n.github.io/assignments2019/assignment1/) and [the solution](https://github.com/CatalinVoss/cnn-assignments/tree/master/assignment1)"
      ]
    },
    {
      "cell_type": "code",
      "metadata": {
        "id": "O0NIs9Zmm0xC",
        "colab_type": "code",
        "colab": {}
      },
      "source": [
        "import numpy as np\n",
        "import matplotlib.pyplot as plt\n",
        "import pandas as pd\n",
        "import time\n",
        "\n",
        "%matplotlib inline\n",
        "plt.rcParams['figure.figsize'] = (10.0, 8.0) # set default size of plots\n",
        "plt.rcParams['image.interpolation'] = 'nearest'\n",
        "plt.rcParams['image.cmap'] = 'gray'"
      ],
      "execution_count": 0,
      "outputs": []
    },
    {
      "cell_type": "markdown",
      "metadata": {
        "id": "zwe8T_HnqzJ0",
        "colab_type": "text"
      },
      "source": [
        "# Data preprocessing"
      ]
    },
    {
      "cell_type": "code",
      "metadata": {
        "id": "VYP_xrnaq7FZ",
        "colab_type": "code",
        "colab": {}
      },
      "source": [
        "def load_MNIST():\n",
        "    test_data = pd.read_csv('/content/sample_data/mnist_test.csv').values\n",
        "    train_data = pd.read_csv('/content/sample_data/mnist_train_small.csv').values\n",
        "    xtrain = np.reshape(train_data[:, 1:], [-1, 28, 28, 1]).astype(np.float32)\n",
        "    ytrain = train_data[:, 0]\n",
        "    xtest = np.reshape(test_data[:, 1:], [-1, 28, 28, 1]).astype(np.float32)\n",
        "    ytest = test_data[:, 0]\n",
        "    return xtrain, ytrain, xtest, ytest\n",
        "  "
      ],
      "execution_count": 0,
      "outputs": []
    },
    {
      "cell_type": "code",
      "metadata": {
        "id": "PgsCEAnmWJDx",
        "colab_type": "code",
        "colab": {}
      },
      "source": [
        "X_train, Y_train, X_test, Y_test = load_MNIST()"
      ],
      "execution_count": 0,
      "outputs": []
    },
    {
      "cell_type": "code",
      "metadata": {
        "id": "RibEQHCyWpZh",
        "colab_type": "code",
        "colab": {}
      },
      "source": [
        "for dd in [X_train, Y_train, X_test, Y_test]:\n",
        "  print(dd.shape)"
      ],
      "execution_count": 0,
      "outputs": []
    },
    {
      "cell_type": "code",
      "metadata": {
        "id": "DrZ7TDQtaPO4",
        "colab_type": "code",
        "colab": {}
      },
      "source": [
        "# pick a randam number\n",
        "ind = np.random.choice(X_test.shape[0])\n",
        "\n",
        "# show the image\n",
        "simage = X_test[ind][:,:,0]\n",
        "plt.imshow(simage)"
      ],
      "execution_count": 0,
      "outputs": []
    },
    {
      "cell_type": "code",
      "metadata": {
        "id": "-DI5LSILbPWg",
        "colab_type": "code",
        "colab": {}
      },
      "source": [
        "print(Y_test[ind])"
      ],
      "execution_count": 0,
      "outputs": []
    },
    {
      "cell_type": "markdown",
      "metadata": {
        "id": "ItSewhrUyvHa",
        "colab_type": "text"
      },
      "source": [
        "##Load MNIST dataset"
      ]
    },
    {
      "cell_type": "code",
      "metadata": {
        "id": "dZzMW9YrcL8U",
        "colab_type": "code",
        "colab": {}
      },
      "source": [
        "\n",
        "def get_MNIST_data(num_training=15000, num_validation=1000, num_test=1000):\n",
        "  \"\"\"\n",
        "  Load the CIFAR-10 dataset from disk and perform preprocessing to prepare\n",
        "  it for the linear classifier. These are the same steps as we used for the\n",
        "  SVM, but condensed to a single function.  \n",
        "  \"\"\"\n",
        "  # Load the CSV MNIST data\n",
        "  X_train, y_train, X_test, y_test = load_MNIST()\n",
        "  \n",
        "  # subsample the data\n",
        "  mask = range(num_training, num_training + num_validation)\n",
        "  X_val = X_train[mask]\n",
        "  y_val = y_train[mask]\n",
        "  mask = range(num_training)\n",
        "  X_train = X_train[mask]\n",
        "  y_train = y_train[mask]\n",
        "  mask = range(num_test)\n",
        "  X_test = X_test[mask]\n",
        "  y_test = y_test[mask]\n",
        "  \n",
        "  # Preprocessing: reshape the image data into rows\n",
        "  X_train = np.reshape(X_train, (X_train.shape[0], -1))\n",
        "  X_val = np.reshape(X_val, (X_val.shape[0], -1))\n",
        "  X_test = np.reshape(X_test, (X_test.shape[0], -1))\n",
        "  \n",
        "  # Normalize the data: subtract the mean image\n",
        "  mean_image = np.mean(X_train, axis=0)\n",
        "  X_train -= mean_image\n",
        "  X_val -= mean_image\n",
        "  X_test -= mean_image\n",
        "  \n",
        "  # add bias dimension and transform into columns\n",
        "  X_train = np.hstack([X_train, np.ones((X_train.shape[0], 1))]).T\n",
        "  X_val = np.hstack([X_val, np.ones((X_val.shape[0], 1))]).T\n",
        "  X_test = np.hstack([X_test, np.ones((X_test.shape[0], 1))]).T\n",
        "  \n",
        "  return X_train, y_train, X_val, y_val, X_test, y_test\n",
        "\n",
        "\n",
        "# Invoke the above function to get our data.\n",
        "X_train, y_train, X_val, y_val, X_test, y_test = get_MNIST_data()\n",
        "print('Train data shape: ', X_train.shape)\n",
        "print('Train labels shape: ', y_train.shape)\n",
        "print('Validation data shape: ', X_val.shape)\n",
        "print('Validation labels shape: ', y_val.shape)\n",
        "print('Test data shape: ', X_test.shape)\n",
        "print('Test labels shape: ', y_test.shape)"
      ],
      "execution_count": 0,
      "outputs": []
    },
    {
      "cell_type": "markdown",
      "metadata": {
        "id": "wDj20dLRs19Q",
        "colab_type": "text"
      },
      "source": [
        "# Numerical gradient"
      ]
    },
    {
      "cell_type": "code",
      "metadata": {
        "id": "KugFeBtgpwF-",
        "colab_type": "code",
        "colab": {}
      },
      "source": [
        "from __future__ import print_function\n",
        "from builtins import range\n",
        "from past.builtins import xrange\n",
        "\n",
        "import numpy as np\n",
        "from random import randrange\n",
        "\n",
        "def eval_numerical_gradient(f, x, verbose=True, h=0.00001):\n",
        "    \"\"\"\n",
        "    a naive implementation of numerical gradient of f at x\n",
        "    - f should be a function that takes a single argument\n",
        "    - x is the point (numpy array) to evaluate the gradient at\n",
        "    \"\"\"\n",
        "\n",
        "    fx = f(x) # evaluate function value at original point\n",
        "    grad = np.zeros_like(x)\n",
        "    # iterate over all indexes in x\n",
        "    it = np.nditer(x, flags=['multi_index'], op_flags=['readwrite'])\n",
        "    while not it.finished:\n",
        "\n",
        "        # evaluate function at x+h\n",
        "        ix = it.multi_index\n",
        "        oldval = x[ix]\n",
        "        x[ix] = oldval + h # increment by h\n",
        "        fxph = f(x) # evalute f(x + h)\n",
        "        x[ix] = oldval - h\n",
        "        fxmh = f(x) # evaluate f(x - h)\n",
        "        x[ix] = oldval # restore\n",
        "\n",
        "        # compute the partial derivative with centered formula\n",
        "        grad[ix] = (fxph - fxmh) / (2 * h) # the slope\n",
        "        if verbose:\n",
        "            print(ix, grad[ix])\n",
        "        it.iternext() # step to next dimension\n",
        "\n",
        "    return grad\n",
        "\n",
        "\n",
        "def eval_numerical_gradient_array(f, x, df, h=1e-5):\n",
        "    \"\"\"\n",
        "    Evaluate a numeric gradient for a function that accepts a numpy\n",
        "    array and returns a numpy array.\n",
        "    \"\"\"\n",
        "    grad = np.zeros_like(x)\n",
        "    it = np.nditer(x, flags=['multi_index'], op_flags=['readwrite'])\n",
        "    while not it.finished:\n",
        "        ix = it.multi_index\n",
        "\n",
        "        oldval = x[ix]\n",
        "        x[ix] = oldval + h\n",
        "        pos = f(x).copy()\n",
        "        x[ix] = oldval - h\n",
        "        neg = f(x).copy()\n",
        "        x[ix] = oldval\n",
        "\n",
        "        grad[ix] = np.sum((pos - neg) * df) / (2 * h)\n",
        "        it.iternext()\n",
        "    return grad\n",
        "\n",
        "\n",
        "def eval_numerical_gradient_blobs(f, inputs, output, h=1e-5):\n",
        "    \"\"\"\n",
        "    Compute numeric gradients for a function that operates on input\n",
        "    and output blobs.\n",
        "\n",
        "    We assume that f accepts several input blobs as arguments, followed by a\n",
        "    blob where outputs will be written. For example, f might be called like:\n",
        "\n",
        "    f(x, w, out)\n",
        "\n",
        "    where x and w are input Blobs, and the result of f will be written to out.\n",
        "\n",
        "    Inputs:\n",
        "    - f: function\n",
        "    - inputs: tuple of input blobs\n",
        "    - output: output blob\n",
        "    - h: step size\n",
        "    \"\"\"\n",
        "    numeric_diffs = []\n",
        "    for input_blob in inputs:\n",
        "        diff = np.zeros_like(input_blob.diffs)\n",
        "        it = np.nditer(input_blob.vals, flags=['multi_index'],\n",
        "                       op_flags=['readwrite'])\n",
        "        while not it.finished:\n",
        "            idx = it.multi_index\n",
        "            orig = input_blob.vals[idx]\n",
        "\n",
        "            input_blob.vals[idx] = orig + h\n",
        "            f(*(inputs + (output,)))\n",
        "            pos = np.copy(output.vals)\n",
        "            input_blob.vals[idx] = orig - h\n",
        "            f(*(inputs + (output,)))\n",
        "            neg = np.copy(output.vals)\n",
        "            input_blob.vals[idx] = orig\n",
        "\n",
        "            diff[idx] = np.sum((pos - neg) * output.diffs) / (2.0 * h)\n",
        "\n",
        "            it.iternext()\n",
        "        numeric_diffs.append(diff)\n",
        "    return numeric_diffs\n",
        "\n",
        "\n",
        "def eval_numerical_gradient_net(net, inputs, output, h=1e-5):\n",
        "    return eval_numerical_gradient_blobs(lambda *args: net.forward(),\n",
        "                inputs, output, h=h)\n",
        "\n",
        "\n",
        "def grad_check_sparse(f, x, analytic_grad, num_checks=10, h=1e-5):\n",
        "    \"\"\"\n",
        "    sample a few random elements and only return numerical\n",
        "    in this dimensions.\n",
        "    \"\"\"\n",
        "\n",
        "    for i in range(num_checks):\n",
        "        ix = tuple([randrange(m) for m in x.shape])\n",
        "\n",
        "        oldval = x[ix]\n",
        "        x[ix] = oldval + h # increment by h\n",
        "        fxph = f(x) # evaluate f(x + h)\n",
        "        x[ix] = oldval - h # increment by h\n",
        "        fxmh = f(x) # evaluate f(x - h)\n",
        "        x[ix] = oldval # reset\n",
        "\n",
        "        grad_numerical = (fxph - fxmh) / (2 * h)\n",
        "        grad_analytic = analytic_grad[ix]\n",
        "        rel_error = (abs(grad_numerical - grad_analytic) /\n",
        "                    (abs(grad_numerical) + abs(grad_analytic)))\n",
        "        print('numerical: %f analytic: %f, relative error: %e'\n",
        "              %(grad_numerical, grad_analytic, rel_error))"
      ],
      "execution_count": 0,
      "outputs": []
    },
    {
      "cell_type": "markdown",
      "metadata": {
        "id": "Sch5quJ4n9Z6",
        "colab_type": "text"
      },
      "source": [
        "# Analytical gradient\n",
        "Loss and analytical gradients are calculated in the same function"
      ]
    },
    {
      "cell_type": "code",
      "metadata": {
        "id": "naz-LAGVn3Ej",
        "colab_type": "code",
        "colab": {}
      },
      "source": [
        "def softmax_loss_naive(W, X, y, reg):\n",
        "  \"\"\"\n",
        "  Softmax loss function, naive implementation (with loops)\n",
        "  Inputs:\n",
        "  - W: C x D array of weights\n",
        "  - X: D x N array of data. Data are D-dimensional columns\n",
        "  - y: 1-dimensional array of length N with labels 0...K-1, for K classes\n",
        "  - reg: (float) regularization strength\n",
        "  Returns:\n",
        "  a tuple of:\n",
        "  - loss as single float\n",
        "  - gradient with respect to weights W, an array of same size as W\n",
        "  \"\"\"\n",
        "  # Initialize the loss and gradient to zero.\n",
        "  loss = 0.0\n",
        "  dW = np.zeros_like(W)\n",
        "\n",
        "  #############################################################################\n",
        "  # Compute the softmax loss and its gradient using explicit loops.           #\n",
        "  # Store the loss in loss and the gradient in dW. If you are not careful     #\n",
        "  # here, it is easy to run into numeric instability. Don't forget the        #\n",
        "  # regularization!                                                           #\n",
        "  #############################################################################\n",
        "\n",
        "  # Get shapes\n",
        "  num_classes = W.shape[0] # i.e. the 'C'\n",
        "  num_train = X.shape[1] # i.e. the 'N'\n",
        "\n",
        "  for i in range(num_train):\n",
        "    # Compute vector of scores\n",
        "    f_i = W.dot(X[:, i]) # in R^{num_classes}\n",
        "\n",
        "    # Normalization trick to avoid numerical instability, \n",
        "    # per http://cs231n.github.io/linear-classify/#softmax\n",
        "    log_c = np.max(f_i)\n",
        "    f_i -= log_c\n",
        "\n",
        "    # Compute loss (and add to it, divided later)\n",
        "    # L_i = - f(x_i)_{y_i} + log \\sum_j e^{f(x_i)_j}\n",
        "    sum_i = 0.0\n",
        "    for f_i_j in f_i:\n",
        "      sum_i += np.exp(f_i_j)\n",
        "    loss += -f_i[y[i]] + np.log(sum_i)\n",
        "\n",
        "    # Compute gradient\n",
        "    # dw_j = 1/num_train * \\sum_i[x_i * (p(y_i = j)-Ind{y_i = j} )]\n",
        "    # Here we are computing the contribution to the inner sum for a given i.\n",
        "    for j in range(num_classes):\n",
        "      p = np.exp(f_i[j]) / sum_i\n",
        "      dW[j, :] += (p-(j == y[i])) * X[:, i]\n",
        "\n",
        "  # Compute average\n",
        "  loss /= num_train\n",
        "  dW /= num_train\n",
        "\n",
        "  # Regularization\n",
        "  loss += 0.5 * reg * np.sum(W * W)\n",
        "  dW += reg * W\n",
        "\n",
        "  return loss, dW"
      ],
      "execution_count": 0,
      "outputs": []
    },
    {
      "cell_type": "code",
      "metadata": {
        "id": "1CcnbXJwoNn6",
        "colab_type": "code",
        "colab": {}
      },
      "source": [
        "def softmax_loss_vectorized(W, X, y, reg):\n",
        "  \"\"\"\n",
        "  Softmax loss function, vectorized version.\n",
        "  Inputs and outputs are the same as softmax_loss_naive.\n",
        "  \"\"\"\n",
        "  # Initialize the loss and gradient to zero.\n",
        "  loss = 0.0\n",
        "  dW = np.zeros_like(W)\n",
        "\n",
        "  #############################################################################\n",
        "  # Compute the softmax loss and its gradient using no explicit loops.  #\n",
        "  # Store the loss in loss and the gradient in dW. If you are not careful     #\n",
        "  # here, it is easy to run into numeric instability. Don't forget the        #\n",
        "  # regularization!                                                           #\n",
        "  #############################################################################\n",
        "\n",
        "  # Get shapes\n",
        "  num_classes = W.shape[0]\n",
        "  num_train = X.shape[1]\n",
        "\n",
        "  # Compute scores\n",
        "  f = np.dot(W, X)\n",
        "\n",
        "  # Normalization trick to avoid numerical instability, per http://cs231n.github.io/linear-classify/#softmax\n",
        "  f -= np.max(f)\n",
        "\n",
        "  # Loss: L_i = - f(x_i)_{y_i} + log \\sum_j e^{f(x_i)_j}\n",
        "  # Compute vector of stacked correct f-scores: [f(x_1)_{y_1}, ..., f(x_N)_{y_N}]\n",
        "  # (where N = num_train)\n",
        "  f_correct = f[y, range(num_train)]\n",
        "  loss = -np.mean( np.log(np.exp(f_correct) / np.sum(np.exp(f))) )\n",
        "\n",
        "  # Gradient: dw_j = 1/num_train * \\sum_i[x_i * (p(y_i = j)-Ind{y_i = j} )]\n",
        "  p = np.exp(f)/np.sum(np.exp(f), axis=0)\n",
        "  ind = np.zeros(p.shape)\n",
        "  ind[y, range(num_train)] = 1\n",
        "  dW = np.dot((p-ind), X.T)\n",
        "  dW /= num_train\n",
        "\n",
        "  # Regularization\n",
        "  loss += 0.5 * reg * np.sum(W * W)\n",
        "  dW += reg*W\n",
        "\n",
        "  return loss, dW"
      ],
      "execution_count": 0,
      "outputs": []
    },
    {
      "cell_type": "markdown",
      "metadata": {
        "id": "MjWZeEnAcJms",
        "colab_type": "text"
      },
      "source": [
        "# Sanity check"
      ]
    },
    {
      "cell_type": "markdown",
      "metadata": {
        "id": "DazVeWwKAq5t",
        "colab_type": "text"
      },
      "source": [
        "##Loss"
      ]
    },
    {
      "cell_type": "code",
      "metadata": {
        "id": "jDgr1dwEcuhF",
        "colab_type": "code",
        "colab": {}
      },
      "source": [
        "# Generate a random softmax weight matrix and use it to compute the loss.\n",
        "W = np.random.randn(10, X_train.shape[0]) * 0.0001\n",
        "loss, grad = softmax_loss_naive(W, X_train, y_train, 0)\n",
        "\n",
        "# As a rough sanity check, our loss should be something close to -log(0.1).\n",
        "print('loss: %f' % loss)\n",
        "print('sanity check: %f' % (-np.log(1/10)))"
      ],
      "execution_count": 0,
      "outputs": []
    },
    {
      "cell_type": "markdown",
      "metadata": {
        "id": "1_vxPtMv8jkQ",
        "colab_type": "text"
      },
      "source": [
        "But why do we expect our loss to be close to -log(1/10)?"
      ]
    },
    {
      "cell_type": "markdown",
      "metadata": {
        "id": "XeHN2cEbA91P",
        "colab_type": "text"
      },
      "source": [
        "##Gradient"
      ]
    },
    {
      "cell_type": "code",
      "metadata": {
        "id": "AjnASgaKmCg_",
        "colab_type": "code",
        "colab": {}
      },
      "source": [
        "print(W.shape)\n",
        "loss, grad = softmax_loss_naive(W, X_train, y_train, 0)\n",
        "print(grad.shape)\n",
        "f = lambda v: softmax_loss_naive(v, X_train, y_train, 0)[0]\n",
        "print(f(W) == loss)\n",
        "grad_numerical = grad_check_sparse(f, W, grad, 10)"
      ],
      "execution_count": 0,
      "outputs": []
    },
    {
      "cell_type": "markdown",
      "metadata": {
        "id": "o4zIjgBfHzyz",
        "colab_type": "text"
      },
      "source": [
        "##Vectorisation"
      ]
    },
    {
      "cell_type": "markdown",
      "metadata": {
        "id": "SEJSaHlSKJMB",
        "colab_type": "text"
      },
      "source": [
        "We use the [Frobenius norm](https://http://mathworld.wolfram.com/FrobeniusNorm.html) to compare the two gradients (in the form of matrix) caculated through scalar and vectorised version respectively"
      ]
    },
    {
      "cell_type": "code",
      "metadata": {
        "id": "i_zIur1XBIpf",
        "colab_type": "code",
        "colab": {}
      },
      "source": [
        "# Now that we have a naive implementation of the softmax loss function and its gradient,\n",
        "# implement a vectorized version in softmax_loss_vectorized.\n",
        "# The two versions should compute the same results, but the vectorized version should be\n",
        "# much faster.\n",
        "tic = time.time()\n",
        "loss_naive, grad_naive = softmax_loss_naive(W, X_train, y_train, 0.00001)\n",
        "toc = time.time()\n",
        "print('naive loss: %e computed in %fs' % (loss_naive, toc - tic))\n",
        "\n",
        "tic = time.time()\n",
        "loss_vectorized, grad_vectorized = softmax_loss_vectorized(W, X_train, y_train, 0.00001)\n",
        "toc = time.time()\n",
        "print('vectorized loss: %e computed in %fs' % (loss_vectorized, toc - tic))\n",
        "\n",
        "# we use the Frobenius norm to compare the two versions\n",
        "# of the gradient.\n",
        "grad_difference = np.linalg.norm(grad_naive - grad_vectorized, ord='fro')\n",
        "print('Loss difference: %f' % np.abs(loss_naive - loss_vectorized))\n",
        "print('Gradient difference: %f' % grad_difference)"
      ],
      "execution_count": 0,
      "outputs": []
    },
    {
      "cell_type": "markdown",
      "metadata": {
        "id": "-iMMOh6OL907",
        "colab_type": "text"
      },
      "source": [
        "# Linear classifier"
      ]
    },
    {
      "cell_type": "code",
      "metadata": {
        "id": "lOGxPWDIME5S",
        "colab_type": "code",
        "colab": {}
      },
      "source": [
        "class LinearClassifier:\n",
        "\n",
        "  def __init__(self):\n",
        "    self.W = None\n",
        "\n",
        "  def train(self, X, y, learning_rate=1e-3, reg=1e-5, num_iters=100,\n",
        "            batch_size=200, verbose=False):\n",
        "    \"\"\"\n",
        "    Train this linear classifier using stochastic gradient descent.\n",
        "    Inputs:\n",
        "    - X: D x N array of training data. Each training point is a D-dimensional\n",
        "         column, and there are N training examples\n",
        "    - y: 1-dimensional array of length N with labels 0...K-1, for K classes.\n",
        "    - learning_rate: (float) learning rate for optimization.\n",
        "    - reg: (float) regularization strength.\n",
        "    - num_iters: (integer) number of steps to take when optimizing\n",
        "    - batch_size: (integer) number of training examples to use at each step.\n",
        "    - verbose: (boolean) If true, print progress during optimization.\n",
        "    Outputs:\n",
        "    A list containing the value of the loss function at each training iteration.\n",
        "    \"\"\"\n",
        "    dim, num_train = X.shape\n",
        "    # assume y takes values 0...K-1 where K is number of classes\n",
        "    num_classes = np.max(y) + 1 \n",
        "    if self.W is None:\n",
        "      # lazily initialize W\n",
        "      self.W = np.random.randn(num_classes, dim) * 0.001\n",
        "\n",
        "    # Run stochastic gradient descent to optimize W\n",
        "    loss_history = []\n",
        "    for it in xrange(num_iters):\n",
        "      X_batch = None\n",
        "      y_batch = None\n",
        "\n",
        "      #########################################################################\n",
        "      # Sample batch_size elements from the training data and their           #\n",
        "      # corresponding labels to use in this round of gradient descent.        #\n",
        "      # Store the data in X_batch and their corresponding labels in           #\n",
        "      # y_batch; after sampling X_batch should have shape (dim, batch_size)   #\n",
        "      # and y_batch should have shape (batch_size,)                           #\n",
        "      #                                                                       #\n",
        "      # Hint: Use np.random.choice to generate indices. Sampling with         #\n",
        "      # replacement is faster than sampling without replacement.              #\n",
        "      #########################################################################\n",
        "      idx = np.random.choice(num_train, batch_size, replace=True)\n",
        "      X_batch = X[:,idx]\n",
        "      y_batch = y[idx]\n",
        "\n",
        "      # evaluate loss and gradient\n",
        "      loss, grad = self.loss(X_batch, y_batch, reg)\n",
        "      loss_history.append(loss)\n",
        "\n",
        "      # perform parameter update\n",
        "      #########################################################################\n",
        "      # Update the weights using the gradient and the learning rate.          #\n",
        "      #########################################################################\n",
        "      self.W -= learning_rate * grad\n",
        "\n",
        "      if verbose and it % 100 == 0:\n",
        "        print('iteration %d / %d: loss %f' % (it, num_iters, loss))\n",
        "\n",
        "    return loss_history\n",
        "\n",
        "  def predict(self, X):\n",
        "    \"\"\"\n",
        "    Use the trained weights of this linear classifier to predict labels for\n",
        "    data points.\n",
        "    Inputs:\n",
        "    - X: D x N array of training data. Each column is a D-dimensional point.\n",
        "    Returns:\n",
        "    - y_pred: Predicted labels for the data in X. y_pred is a 1-dimensional\n",
        "      array of length N, and each element is an integer giving the predicted\n",
        "      class.\n",
        "    \"\"\"\n",
        "    y_pred = np.zeros(X.shape[1])\n",
        "    ###########################################################################\n",
        "    # Implement this method. Store the predicted labels in y_pred.            #\n",
        "    ###########################################################################\n",
        "    y_pred = np.argmax(np.dot(self.W,X), axis=0)\n",
        "    return y_pred\n",
        "  \n",
        "  def loss(self, X_batch, y_batch, reg):\n",
        "    \"\"\"\n",
        "    Compute the loss function and its derivative. \n",
        "    Subclasses will override this.\n",
        "    Inputs:\n",
        "    - X_batch: D x N array of data; each column is a data point.\n",
        "    - y_batch: 1-dimensional array of length N with labels 0...K-1, for K classes.\n",
        "    - reg: (float) regularization strength.\n",
        "    Returns: A tuple containing:\n",
        "    - loss as a single float\n",
        "    - gradient with respect to self.W; an array of the same shape as W\n",
        "    \"\"\"\n",
        "    pass\n",
        "\n",
        "\n",
        "class Softmax(LinearClassifier):\n",
        "  \"\"\" A subclass that uses the Softmax + Cross-entropy loss function \"\"\"\n",
        "\n",
        "  def loss(self, X_batch, y_batch, reg):\n",
        "    return softmax_loss_vectorized(self.W, X_batch, y_batch, reg)"
      ],
      "execution_count": 0,
      "outputs": []
    },
    {
      "cell_type": "markdown",
      "metadata": {
        "id": "qHfxAMBbVjY3",
        "colab_type": "text"
      },
      "source": [
        "# MNIST example"
      ]
    },
    {
      "cell_type": "markdown",
      "metadata": {
        "id": "W4aGe8YJa2EO",
        "colab_type": "text"
      },
      "source": [
        "##Training & model selection"
      ]
    },
    {
      "cell_type": "code",
      "metadata": {
        "id": "GiikGi5EVmkk",
        "colab_type": "code",
        "colab": {}
      },
      "source": [
        "# Use the validation set to tune hyperparameters (regularization strength and\n",
        "# learning rate). You should experiment with different ranges for the learning\n",
        "# rates and regularization strengths; if you are careful you should be able to\n",
        "# get a classification accuracy of over 0.35 on the validation set.\n",
        "results = {}\n",
        "best_val = -1\n",
        "best_softmax = None\n",
        "learning_rates = np.logspace(-10, -3, 15) \n",
        "regularization_strengths = np.logspace(-3, 0, 15)\n",
        "\n",
        "################################################################################\n",
        "# Use the validation set to set the learning rate and regularization strength. #\n",
        "# This should be identical to the validation that you did for the SVM; save    #\n",
        "# the best trained softmax classifer in best_softmax.                          #\n",
        "################################################################################\n",
        "iters = 100 #100\n",
        "for lr in learning_rates:\n",
        "    for rs in regularization_strengths:\n",
        "        softmax = Softmax()\n",
        "        softmax.train(X_train, y_train, learning_rate=lr, \n",
        "                      reg=rs, num_iters=iters)\n",
        "        \n",
        "        y_train_pred = softmax.predict(X_train)\n",
        "        acc_train = np.mean(y_train == y_train_pred)\n",
        "        y_val_pred = softmax.predict(X_val)\n",
        "        acc_val = np.mean(y_val == y_val_pred)\n",
        "        \n",
        "        results[(lr, rs)] = (acc_train, acc_val)\n",
        "        \n",
        "        if best_val < acc_val:\n",
        "            best_val = acc_val\n",
        "            best_softmax = softmax\n",
        "    \n",
        "# Print out results.\n",
        "for lr, reg in sorted(results):\n",
        "    train_accuracy, val_accuracy = results[(lr, reg)]\n",
        "    print('lr %e reg %e train_acc: %f val_acc: %f' % (\n",
        "                lr, reg, train_accuracy, val_accuracy))\n",
        "    \n",
        "print('best validation accuracy achieved during cross-validation: %f'\\\n",
        "      % best_val)"
      ],
      "execution_count": 0,
      "outputs": []
    },
    {
      "cell_type": "markdown",
      "metadata": {
        "id": "TLrQena9bbvQ",
        "colab_type": "text"
      },
      "source": [
        "##Inference"
      ]
    },
    {
      "cell_type": "code",
      "metadata": {
        "id": "Dcfe8g61YHZl",
        "colab_type": "code",
        "colab": {}
      },
      "source": [
        "# evaluate on test set\n",
        "# Evaluate the best svm on test set\n",
        "y_test_pred = best_softmax.predict(X_test)\n",
        "test_accuracy = np.mean(y_test == y_test_pred)\n",
        "print('softmax on raw pixels final test set accuracy: %f' % (test_accuracy, ))"
      ],
      "execution_count": 0,
      "outputs": []
    },
    {
      "cell_type": "markdown",
      "metadata": {
        "id": "iAA4CPABcYjB",
        "colab_type": "text"
      },
      "source": [
        "##Visualise weights"
      ]
    },
    {
      "cell_type": "code",
      "metadata": {
        "id": "_D1dERjWcUwU",
        "colab_type": "code",
        "colab": {}
      },
      "source": [
        "# Visualize the learned weights for each class\n",
        "w = best_softmax.W[:,:-1] # strip out the bias\n",
        "w = w.reshape(10, 28, 28, 1)\n",
        "\n",
        "w_min, w_max = np.min(w), np.max(w)\n",
        "\n",
        "classes = ['0', '1', '2', '3', '4', '5', '6', '7', '8', '9']\n",
        "for i in xrange(10):\n",
        "  plt.subplot(2, 5, i + 1)\n",
        "  \n",
        "  # Rescale the weights to be between 0 and 255\n",
        "  wimg = 255.0 * (w[i].squeeze() - w_min) / (w_max - w_min)\n",
        "  plt.imshow(wimg)\n",
        "  plt.axis('off')\n",
        "  plt.title(classes[i])"
      ],
      "execution_count": 0,
      "outputs": []
    },
    {
      "cell_type": "code",
      "metadata": {
        "id": "xJvggqN1ctZ5",
        "colab_type": "code",
        "colab": {}
      },
      "source": [
        ""
      ],
      "execution_count": 0,
      "outputs": []
    }
  ]
}