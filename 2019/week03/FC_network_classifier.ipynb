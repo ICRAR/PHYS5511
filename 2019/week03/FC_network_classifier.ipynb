{
  "nbformat": 4,
  "nbformat_minor": 0,
  "metadata": {
    "colab": {
      "name": "FC_network_classifier.ipynb",
      "version": "0.3.2",
      "provenance": [],
      "toc_visible": true,
      "include_colab_link": true
    },
    "kernelspec": {
      "name": "python3",
      "display_name": "Python 3"
    }
  },
  "cells": [
    {
      "cell_type": "markdown",
      "metadata": {
        "id": "view-in-github",
        "colab_type": "text"
      },
      "source": [
        "<a href=\"https://colab.research.google.com/github/ICRAR/PHYS5511/blob/master/2019/week03/FC_network_classifier.ipynb\" target=\"_parent\"><img src=\"https://colab.research.google.com/assets/colab-badge.svg\" alt=\"Open In Colab\"/></a>"
      ]
    },
    {
      "cell_type": "markdown",
      "metadata": {
        "id": "QOgkw-mggi9a",
        "colab_type": "text"
      },
      "source": [
        "Adapted from the \"famous\" CS231 course on [linear classifier assignment one](http://cs231n.github.io/assignments2019/assignment1/) and [the awesome solution](https://github.com/jariasf/CS231n/tree/master/assignment1)"
      ]
    },
    {
      "cell_type": "code",
      "metadata": {
        "id": "O0NIs9Zmm0xC",
        "colab_type": "code",
        "colab": {}
      },
      "source": [
        "import numpy as np\n",
        "import matplotlib.pyplot as plt\n",
        "import pandas as pd\n",
        "import time\n",
        "from builtins import range\n",
        "from math import sqrt, ceil\n",
        "\n",
        "%matplotlib inline\n",
        "plt.rcParams['figure.figsize'] = (10.0, 8.0) # set default size of plots\n",
        "plt.rcParams['image.interpolation'] = 'nearest'\n",
        "plt.rcParams['image.cmap'] = 'gray'"
      ],
      "execution_count": 0,
      "outputs": []
    },
    {
      "cell_type": "markdown",
      "metadata": {
        "id": "9Uh5ky0fXLC-",
        "colab_type": "text"
      },
      "source": [
        "#Vis utils"
      ]
    },
    {
      "cell_type": "code",
      "metadata": {
        "id": "I07dSA1HXOEK",
        "colab_type": "code",
        "colab": {}
      },
      "source": [
        "def visualize_grid(Xs, ubound=255.0, padding=1):\n",
        "    \"\"\"\n",
        "    Reshape a 4D tensor of image data to a grid for easy visualization.\n",
        "\n",
        "    Inputs:\n",
        "    - Xs: Data of shape (N, H, W, C)\n",
        "    - ubound: Output grid will have values scaled to the range [0, ubound]\n",
        "    - padding: The number of blank pixels between elements of the grid\n",
        "    \"\"\"\n",
        "    (N, H, W, C) = Xs.shape\n",
        "    grid_size = int(ceil(sqrt(N)))\n",
        "    grid_height = H * grid_size + padding * (grid_size - 1)\n",
        "    grid_width = W * grid_size + padding * (grid_size - 1)\n",
        "    grid = np.zeros((grid_height, grid_width, C))\n",
        "    next_idx = 0\n",
        "    y0, y1 = 0, H\n",
        "    for y in range(grid_size):\n",
        "        x0, x1 = 0, W\n",
        "        for x in range(grid_size):\n",
        "            if next_idx < N:\n",
        "                img = Xs[next_idx]\n",
        "                low, high = np.min(img), np.max(img)\n",
        "                grid[y0:y1, x0:x1] = ubound * (img - low) / (high - low)\n",
        "                # grid[y0:y1, x0:x1] = Xs[next_idx]\n",
        "                next_idx += 1\n",
        "            x0 += W + padding\n",
        "            x1 += W + padding\n",
        "        y0 += H + padding\n",
        "        y1 += H + padding\n",
        "    # grid_max = np.max(grid)\n",
        "    # grid_min = np.min(grid)\n",
        "    # grid = ubound * (grid - grid_min) / (grid_max - grid_min)\n",
        "    return grid\n",
        "\n",
        "def vis_grid(Xs):\n",
        "    \"\"\" visualize a grid of images \"\"\"\n",
        "    (N, H, W, C) = Xs.shape\n",
        "    A = int(ceil(sqrt(N)))\n",
        "    G = np.ones((A*H+A, A*W+A, C), Xs.dtype)\n",
        "    G *= np.min(Xs)\n",
        "    n = 0\n",
        "    for y in range(A):\n",
        "        for x in range(A):\n",
        "            if n < N:\n",
        "                G[y*H+y:(y+1)*H+y, x*W+x:(x+1)*W+x, :] = Xs[n,:,:,:]\n",
        "                n += 1\n",
        "    # normalize to [0,1]\n",
        "    maxg = G.max()\n",
        "    ming = G.min()\n",
        "    G = (G - ming)/(maxg-ming)\n",
        "    return G\n",
        "\n",
        "def vis_nn(rows):\n",
        "    \"\"\" visualize array of arrays of images \"\"\"\n",
        "    N = len(rows)\n",
        "    D = len(rows[0])\n",
        "    H,W,C = rows[0][0].shape\n",
        "    Xs = rows[0][0]\n",
        "    G = np.ones((N*H+N, D*W+D, C), Xs.dtype)\n",
        "    for y in range(N):\n",
        "        for x in range(D):\n",
        "            G[y*H+y:(y+1)*H+y, x*W+x:(x+1)*W+x, :] = rows[y][x]\n",
        "    # normalize to [0,1]\n",
        "    maxg = G.max()\n",
        "    ming = G.min()\n",
        "    G = (G - ming)/(maxg-ming)\n",
        "    return G\n"
      ],
      "execution_count": 0,
      "outputs": []
    },
    {
      "cell_type": "markdown",
      "metadata": {
        "id": "wDj20dLRs19Q",
        "colab_type": "text"
      },
      "source": [
        "# Numerical gradient"
      ]
    },
    {
      "cell_type": "code",
      "metadata": {
        "id": "KugFeBtgpwF-",
        "colab_type": "code",
        "colab": {}
      },
      "source": [
        "from __future__ import print_function\n",
        "from builtins import range\n",
        "from past.builtins import xrange\n",
        "\n",
        "import numpy as np\n",
        "from random import randrange\n",
        "\n",
        "def rel_error(x, y):\n",
        "    \"\"\" returns relative error \"\"\"\n",
        "    return np.max(np.abs(x - y) / (np.maximum(1e-8, np.abs(x) + np.abs(y))))\n",
        "\n",
        "def eval_numerical_gradient(f, x, verbose=True, h=0.00001):\n",
        "    \"\"\"\n",
        "    a naive implementation of numerical gradient of f at x\n",
        "    - f should be a function that takes a single argument\n",
        "    - x is the point (numpy array) to evaluate the gradient at\n",
        "    \"\"\"\n",
        "\n",
        "    fx = f(x) # evaluate function value at original point\n",
        "    grad = np.zeros_like(x)\n",
        "    # iterate over all indexes in x\n",
        "    it = np.nditer(x, flags=['multi_index'], op_flags=['readwrite'])\n",
        "    while not it.finished:\n",
        "\n",
        "        # evaluate function at x+h\n",
        "        ix = it.multi_index\n",
        "        oldval = x[ix]\n",
        "        x[ix] = oldval + h # increment by h\n",
        "        fxph = f(x) # evalute f(x + h)\n",
        "        x[ix] = oldval - h\n",
        "        fxmh = f(x) # evaluate f(x - h)\n",
        "        x[ix] = oldval # restore\n",
        "\n",
        "        # compute the partial derivative with centered formula\n",
        "        grad[ix] = (fxph - fxmh) / (2 * h) # the slope\n",
        "        if verbose:\n",
        "            print(ix, grad[ix])\n",
        "        it.iternext() # step to next dimension\n",
        "\n",
        "    return grad\n",
        "\n",
        "\n",
        "def eval_numerical_gradient_array(f, x, df, h=1e-5):\n",
        "    \"\"\"\n",
        "    Evaluate a numeric gradient for a function that accepts a numpy\n",
        "    array and returns a numpy array.\n",
        "    \"\"\"\n",
        "    grad = np.zeros_like(x)\n",
        "    it = np.nditer(x, flags=['multi_index'], op_flags=['readwrite'])\n",
        "    while not it.finished:\n",
        "        ix = it.multi_index\n",
        "\n",
        "        oldval = x[ix]\n",
        "        x[ix] = oldval + h\n",
        "        pos = f(x).copy()\n",
        "        x[ix] = oldval - h\n",
        "        neg = f(x).copy()\n",
        "        x[ix] = oldval\n",
        "\n",
        "        grad[ix] = np.sum((pos - neg) * df) / (2 * h)\n",
        "        it.iternext()\n",
        "    return grad\n",
        "\n",
        "\n",
        "def eval_numerical_gradient_blobs(f, inputs, output, h=1e-5):\n",
        "    \"\"\"\n",
        "    Compute numeric gradients for a function that operates on input\n",
        "    and output blobs.\n",
        "\n",
        "    We assume that f accepts several input blobs as arguments, followed by a\n",
        "    blob where outputs will be written. For example, f might be called like:\n",
        "\n",
        "    f(x, w, out)\n",
        "\n",
        "    where x and w are input Blobs, and the result of f will be written to out.\n",
        "\n",
        "    Inputs:\n",
        "    - f: function\n",
        "    - inputs: tuple of input blobs\n",
        "    - output: output blob\n",
        "    - h: step size\n",
        "    \"\"\"\n",
        "    numeric_diffs = []\n",
        "    for input_blob in inputs:\n",
        "        diff = np.zeros_like(input_blob.diffs)\n",
        "        it = np.nditer(input_blob.vals, flags=['multi_index'],\n",
        "                       op_flags=['readwrite'])\n",
        "        while not it.finished:\n",
        "            idx = it.multi_index\n",
        "            orig = input_blob.vals[idx]\n",
        "\n",
        "            input_blob.vals[idx] = orig + h\n",
        "            f(*(inputs + (output,)))\n",
        "            pos = np.copy(output.vals)\n",
        "            input_blob.vals[idx] = orig - h\n",
        "            f(*(inputs + (output,)))\n",
        "            neg = np.copy(output.vals)\n",
        "            input_blob.vals[idx] = orig\n",
        "\n",
        "            diff[idx] = np.sum((pos - neg) * output.diffs) / (2.0 * h)\n",
        "\n",
        "            it.iternext()\n",
        "        numeric_diffs.append(diff)\n",
        "    return numeric_diffs\n",
        "\n",
        "\n",
        "def eval_numerical_gradient_net(net, inputs, output, h=1e-5):\n",
        "    return eval_numerical_gradient_blobs(lambda *args: net.forward(),\n",
        "                inputs, output, h=h)\n",
        "\n",
        "\n",
        "def grad_check_sparse(f, x, analytic_grad, num_checks=10, h=1e-5):\n",
        "    \"\"\"\n",
        "    sample a few random elements and only return numerical\n",
        "    in this dimensions.\n",
        "    \"\"\"\n",
        "\n",
        "    for i in range(num_checks):\n",
        "        ix = tuple([randrange(m) for m in x.shape])\n",
        "\n",
        "        oldval = x[ix]\n",
        "        x[ix] = oldval + h # increment by h\n",
        "        fxph = f(x) # evaluate f(x + h)\n",
        "        x[ix] = oldval - h # increment by h\n",
        "        fxmh = f(x) # evaluate f(x - h)\n",
        "        x[ix] = oldval # reset\n",
        "\n",
        "        grad_numerical = (fxph - fxmh) / (2 * h)\n",
        "        grad_analytic = analytic_grad[ix]\n",
        "        rel_error = (abs(grad_numerical - grad_analytic) /\n",
        "                    (abs(grad_numerical) + abs(grad_analytic)))\n",
        "        print('numerical: %f analytic: %f, relative error: %e'\n",
        "              %(grad_numerical, grad_analytic, rel_error))"
      ],
      "execution_count": 0,
      "outputs": []
    },
    {
      "cell_type": "markdown",
      "metadata": {
        "id": "-iMMOh6OL907",
        "colab_type": "text"
      },
      "source": [
        "# FC network classifier\n",
        "FC - Fully-Connected\n",
        "\n",
        "**Note** that the dimension of $W_1$ and $W_2$ are defined as (Input_dim, output_dim), which is different from the[ Linear Classifier](https://colab.research.google.com/github/ICRAR/PHYS5511/blob/master/2019/week03/linear_classifier.ipynb), where weights matrix is defined as (output_dim, input_dim). The implication of such a difference is the order of matrix multiplication, i.e.  $ W\\times X $ in linear classifier, and  $ X\\times W $ in FC networks.\n",
        "\n",
        "Refer to [a quick note](http://cs231n.github.io/optimization-2/) on calculating partial derivatives for matrices"
      ]
    },
    {
      "cell_type": "code",
      "metadata": {
        "id": "lOGxPWDIME5S",
        "colab_type": "code",
        "colab": {}
      },
      "source": [
        "class TwoLayerNet(object):\n",
        "  \"\"\"\n",
        "  A two-layer fully-connected neural network. The net has an input dimension of\n",
        "  N, a hidden layer dimension of H, and performs classification over C classes.\n",
        "  We train the network with a softmax loss function and L2 regularization on the\n",
        "  weight matrices. The network uses a ReLU nonlinearity after the first fully\n",
        "  connected layer.\n",
        "  In other words, the network has the following architecture:\n",
        "  input - fully connected layer - ReLU - fully connected layer - softmax\n",
        "  The outputs of the second fully-connected layer are the scores for each class.\n",
        "  \"\"\"\n",
        "\n",
        "  def __init__(self, input_size, hidden_size, output_size, std=1e-4):\n",
        "    \"\"\"\n",
        "    Initialize the model. Weights are initialized to small random values and\n",
        "    biases are initialized to zero. Weights and biases are stored in the\n",
        "    variable self.params, which is a dictionary with the following keys:\n",
        "    W1: First layer weights; has shape (D, H)\n",
        "    b1: First layer biases; has shape (H,)\n",
        "    W2: Second layer weights; has shape (H, C)\n",
        "    b2: Second layer biases; has shape (C,)\n",
        "    Inputs:\n",
        "    - input_size: The dimension D of the input data.\n",
        "    - hidden_size: The number of neurons H in the hidden layer.\n",
        "    - output_size: The number of classes C.\n",
        "    \"\"\"\n",
        "    self.params = {}\n",
        "    self.params['W1'] = std * np.random.randn(input_size, hidden_size)\n",
        "    self.params['b1'] = np.zeros(hidden_size)\n",
        "    self.params['W2'] = std * np.random.randn(hidden_size, output_size)\n",
        "    self.params['b2'] = np.zeros(output_size)\n",
        "\n",
        "  def loss(self, X, y=None, reg=0.0):\n",
        "    \"\"\"\n",
        "    Compute the loss and gradients for a two layer fully connected neural\n",
        "    network.\n",
        "    Inputs:\n",
        "    - X: Input data of shape (N, D). Each X[i] is a training sample.\n",
        "    - y: Vector of training labels. y[i] is the label for X[i], and each y[i] is\n",
        "      an integer in the range 0 <= y[i] < C. This parameter is optional; if it\n",
        "      is not passed then we only return scores, and if it is passed then we\n",
        "      instead return the loss and gradients.\n",
        "    - reg: Regularization strength.\n",
        "    Returns:\n",
        "    If y is None, return a matrix scores of shape (N, C) where scores[i, c] is\n",
        "    the score for class c on input X[i].\n",
        "    If y is not None, instead return a tuple of:\n",
        "    - loss: Loss (data loss and regularization loss) for this batch of training\n",
        "      samples.\n",
        "    - grads: Dictionary mapping parameter names to gradients of those parameters\n",
        "      with respect to the loss function; has the same keys as self.params.\n",
        "    \"\"\"\n",
        "    # Unpack variables from the params dictionary\n",
        "    W1, b1 = self.params['W1'], self.params['b1']\n",
        "    W2, b2 = self.params['W2'], self.params['b2']\n",
        "    N, D = X.shape\n",
        "\n",
        "    # Compute the forward pass\n",
        "    scores = None\n",
        "    #############################################################################\n",
        "    # TODO: Perform the forward pass, computing the class scores for the input. #\n",
        "    # Store the result in the scores variable, which should be an array of      #\n",
        "    # shape (N, C).                                                             #\n",
        "    #############################################################################\n",
        "    fc1 = X.dot(W1) + b1     # fully connected\n",
        "    hidden_layer = np.maximum(0, fc1)  # ReLU\n",
        "    scores = hidden_layer.dot(W2) + b2 # fully connected\n",
        "    #############################################################################\n",
        "    #                              END OF YOUR CODE                             #\n",
        "    #######################################################################3######\n",
        "    \n",
        "    # If the targets are not given then jump out, we're done\n",
        "    if y is None:\n",
        "      return scores\n",
        "\n",
        "    # Compute the loss\n",
        "    loss = None\n",
        "    #############################################################################\n",
        "    # TODO: Finish the forward pass, and compute the loss. This should include  #\n",
        "    # both the data loss and L2 regularization for W1 and W2. Store the result  #\n",
        "    # in the variable loss, which should be a scalar. Use the Softmax           #\n",
        "    # classifier loss.                                                          #\n",
        "    #############################################################################\n",
        "    scores -= np.max(scores, axis=1, keepdims=True) # avoid numeric instability\n",
        "    scores_exp = np.exp(scores)\n",
        "    softmax_matrix = scores_exp / np.sum(scores_exp, axis=1, keepdims=True) \n",
        "    loss = np.sum(-np.log(softmax_matrix[np.arange(N), y]))\n",
        "    loss /= N\n",
        "    loss += reg * (np.sum(W2 * W2) + np.sum( W1 * W1 )) # regularization\n",
        "    #############################################################################\n",
        "    #                              END OF YOUR CODE                             #\n",
        "    #############################################################################\n",
        "\n",
        "    # Backward pass: compute gradients\n",
        "    grads = {}\n",
        "    #############################################################################\n",
        "    # TODO: Compute the backward pass, computing the derivatives of the weights #\n",
        "    # and biases. Store the results in the grads dictionary. For example,       #\n",
        "    # grads['W1'] should store the gradient on W1, and be a matrix of same size #\n",
        "    #############################################################################\n",
        "    softmax_matrix[np.arange(N) ,y] -= 1\n",
        "    softmax_matrix /= N\n",
        "\n",
        "    # W2 gradient\n",
        "    dW2 = hidden_layer.T.dot(softmax_matrix)   # [HxN] * [NxC] = [HxC]\n",
        "\n",
        "    # b2 gradient\n",
        "    db2 = softmax_matrix.sum(axis=0)\n",
        "\n",
        "    # W1 gradient\n",
        "    dW1 = softmax_matrix.dot(W2.T)   # [NxC] * [CxH] = [NxH]\n",
        "    dfc1 = dW1 * (fc1>0)             # [NxH] . [NxH] = [NxH]\n",
        "    dW1 = X.T.dot(dfc1)              # [DxN] * [NxH] = [DxH]\n",
        "\n",
        "    # b1 gradient\n",
        "    db1 = dfc1.sum(axis=0)\n",
        "\n",
        "    # regularization gradient\n",
        "    dW1 += reg * 2 * W1\n",
        "    dW2 += reg * 2 * W2\n",
        "\n",
        "    grads = {'W1':dW1, 'b1':db1, 'W2':dW2, 'b2':db2}\n",
        "    #############################################################################\n",
        "    #                              END OF YOUR CODE                             #\n",
        "    #############################################################################\n",
        "\n",
        "    return loss, grads\n",
        "\n",
        "  def train(self, X, y, X_val, y_val,\n",
        "            learning_rate=1e-3, learning_rate_decay=0.95,\n",
        "            reg=5e-6, num_iters=100,\n",
        "            batch_size=200, verbose=False):\n",
        "    \"\"\"\n",
        "    Train this neural network using stochastic gradient descent.\n",
        "    Inputs:\n",
        "    - X: A numpy array of shape (N, D) giving training data.\n",
        "    - y: A numpy array f shape (N,) giving training labels; y[i] = c means that\n",
        "      X[i] has label c, where 0 <= c < C.\n",
        "    - X_val: A numpy array of shape (N_val, D) giving validation data.\n",
        "    - y_val: A numpy array of shape (N_val,) giving validation labels.\n",
        "    - learning_rate: Scalar giving learning rate for optimization.\n",
        "    - learning_rate_decay: Scalar giving factor used to decay the learning rate\n",
        "      after each epoch.\n",
        "    - reg: Scalar giving regularization strength.\n",
        "    - num_iters: Number of steps to take when optimizing.\n",
        "    - batch_size: Number of training examples to use per step.\n",
        "    - verbose: boolean; if true print progress during optimization.\n",
        "    \"\"\"\n",
        "    num_train = X.shape[0]\n",
        "    iterations_per_epoch = max(num_train // batch_size, 1)\n",
        "    #print('iterations_per_epoch is {0}'.format(iterations_per_epoch))\n",
        "\n",
        "    # Use SGD to optimize the parameters in self.model\n",
        "    loss_history = []\n",
        "    train_acc_history = []\n",
        "    val_acc_history = []\n",
        "\n",
        "    for it in range(num_iters):\n",
        "      X_batch = None\n",
        "      y_batch = None\n",
        "\n",
        "      #########################################################################\n",
        "      # TODO: Create a random minibatch of training data and labels, storing  #\n",
        "      # them in X_batch and y_batch respectively.                             #\n",
        "      #########################################################################\n",
        "      batch_indices = np.random.choice(num_train, batch_size)\n",
        "      X_batch = X[batch_indices]\n",
        "      y_batch = y[batch_indices]\n",
        "      #########################################################################\n",
        "      #                             END OF YOUR CODE                          #\n",
        "      #########################################################################\n",
        "\n",
        "      # Compute loss and gradients using the current minibatch\n",
        "      loss, grads = self.loss(X_batch, y=y_batch, reg=reg)\n",
        "      loss_history.append(loss)\n",
        "\n",
        "      #########################################################################\n",
        "      # TODO: Use the gradients in the grads dictionary to update the         #\n",
        "      # parameters of the network (stored in the dictionary self.params)      #\n",
        "      # using stochastic gradient descent. You'll need to use the gradients   #\n",
        "      # stored in the grads dictionary defined above.                         #\n",
        "      #########################################################################\n",
        "      for key in self.params:\n",
        "        self.params[key] -= learning_rate * grads[key]\n",
        "      #########################################################################\n",
        "      #                             END OF YOUR CODE                          #\n",
        "      #########################################################################\n",
        "\n",
        "      if verbose and it % 100 == 0:\n",
        "        print('iteration %d / %d: loss %f' % (it, num_iters, loss))\n",
        "\n",
        "      # Every epoch, check train and val accuracy and decay learning rate.\n",
        "      if it % iterations_per_epoch == 0:\n",
        "        # Check accuracy\n",
        "        train_acc = (self.predict(X_batch) == y_batch).mean()\n",
        "        val_acc = (self.predict(X_val) == y_val).mean()\n",
        "        train_acc_history.append(train_acc)\n",
        "        val_acc_history.append(val_acc)\n",
        "\n",
        "        # Decay learning rate\n",
        "        learning_rate *= learning_rate_decay\n",
        "\n",
        "    return {\n",
        "      'loss_history': loss_history,\n",
        "      'train_acc_history': train_acc_history,\n",
        "      'val_acc_history': val_acc_history,\n",
        "    }\n",
        "\n",
        "  def predict(self, X):\n",
        "    \"\"\"\n",
        "    Use the trained weights of this two-layer network to predict labels for\n",
        "    data points. For each data point we predict scores for each of the C\n",
        "    classes, and assign each data point to the class with the highest score.\n",
        "    Inputs:\n",
        "    - X: A numpy array of shape (N, D) giving N D-dimensional data points to\n",
        "      classify.\n",
        "    Returns:\n",
        "    - y_pred: A numpy array of shape (N,) giving predicted labels for each of\n",
        "      the elements of X. For all i, y_pred[i] = c means that X[i] is predicted\n",
        "      to have class c, where 0 <= c < C.\n",
        "    \"\"\"\n",
        "    y_pred = None\n",
        "\n",
        "    ###########################################################################\n",
        "    # TODO: Implement this function; it should be VERY simple!                #\n",
        "    ###########################################################################\n",
        "    y_pred = np.argmax( self.loss(X), axis=1)\n",
        "    ###########################################################################\n",
        "    #                              END OF YOUR CODE                           #\n",
        "    ###########################################################################\n",
        "\n",
        "    return y_pred"
      ],
      "execution_count": 0,
      "outputs": []
    },
    {
      "cell_type": "markdown",
      "metadata": {
        "id": "gN3OyIhSLehz",
        "colab_type": "text"
      },
      "source": [
        "We will use the class **TwoLayerNet** to represent instances of our network. The network parameters are stored in the instance variable self.params where keys are string parameter names and values are numpy arrays. Below, we initialize toy data and a toy model that we will use to develop your implementation."
      ]
    },
    {
      "cell_type": "markdown",
      "metadata": {
        "id": "wcHHGQKyI93p",
        "colab_type": "text"
      },
      "source": [
        "# A toy example"
      ]
    },
    {
      "cell_type": "markdown",
      "metadata": {
        "id": "VSHdnR9rLo4x",
        "colab_type": "text"
      },
      "source": [
        "##Init data and model\n",
        "Note that we set the **random seed** for repeatable experiments."
      ]
    },
    {
      "cell_type": "code",
      "metadata": {
        "id": "dTtGrmoHLwLQ",
        "colab_type": "code",
        "colab": {}
      },
      "source": [
        "# Create a small net and some toy data to check your implementations.\n",
        "# Note that we set the random seed for repeatable experiments.\n",
        "\n",
        "input_size = 4\n",
        "hidden_size = 10\n",
        "num_classes = 3\n",
        "num_inputs = 5\n",
        "\n",
        "def init_toy_model():\n",
        "    np.random.seed(0)\n",
        "    return TwoLayerNet(input_size, hidden_size, num_classes, std=1e-1)\n",
        "\n",
        "def init_toy_data():\n",
        "    np.random.seed(1)\n",
        "    X = 10 * np.random.randn(num_inputs, input_size)\n",
        "    y = np.array([0, 1, 2, 2, 1])\n",
        "    return X, y\n",
        "\n",
        "net = init_toy_model()\n",
        "X, y = init_toy_data()"
      ],
      "execution_count": 0,
      "outputs": []
    },
    {
      "cell_type": "markdown",
      "metadata": {
        "id": "cuXsI_-sN4ei",
        "colab_type": "text"
      },
      "source": [
        "##Forward pass - compute scores\n",
        "The *TwoLayerNet.loss* function is very similar to the loss functions you have written for the Softmax loss.\n",
        "\n",
        "It takes the two inputs\n",
        "\n",
        "1.   data\n",
        "2.   weights\n",
        "\n",
        "and produces three outputs\n",
        "\n",
        "1.   class scores\n",
        "2.   loss\n",
        "3.   gradients on the parameters.\n",
        "\n",
        "\n",
        "Implement the first part of the forward pass which uses the weights and biases to compute the scores for all inputs."
      ]
    },
    {
      "cell_type": "code",
      "metadata": {
        "id": "JNGQZY45OKHA",
        "colab_type": "code",
        "colab": {}
      },
      "source": [
        "scores = net.loss(X)\n",
        "print('Your scores:')\n",
        "print(scores)\n",
        "print()\n",
        "print('correct scores:')\n",
        "correct_scores = np.asarray([\n",
        "  [-0.81233741, -1.27654624, -0.70335995],\n",
        "  [-0.17129677, -1.18803311, -0.47310444],\n",
        "  [-0.51590475, -1.01354314, -0.8504215 ],\n",
        "  [-0.15419291, -0.48629638, -0.52901952],\n",
        "  [-0.00618733, -0.12435261, -0.15226949]])\n",
        "print(correct_scores)\n",
        "print()\n",
        "\n",
        "# The difference should be very small. We get < 1e-7\n",
        "print('Difference between your scores and correct scores:')\n",
        "print(np.sum(np.abs(scores - correct_scores)))"
      ],
      "execution_count": 0,
      "outputs": []
    },
    {
      "cell_type": "markdown",
      "metadata": {
        "id": "6SdKYY4MQCRU",
        "colab_type": "text"
      },
      "source": [
        "##Forward pass - compute loss"
      ]
    },
    {
      "cell_type": "code",
      "metadata": {
        "id": "bdB2fs8gRCy8",
        "colab_type": "code",
        "colab": {}
      },
      "source": [
        "loss, _ = net.loss(X, y, reg=0.05)\n",
        "correct_loss = 1.30378789133\n",
        "\n",
        "# should be very small, we get < 1e-12\n",
        "print('Difference between your loss and correct loss:')\n",
        "print(np.sum(np.abs(loss - correct_loss)))"
      ],
      "execution_count": 0,
      "outputs": []
    },
    {
      "cell_type": "markdown",
      "metadata": {
        "id": "IUBQFU3bRJtO",
        "colab_type": "text"
      },
      "source": [
        "##Backward pass\n",
        "Implement the rest of the function. This will compute the gradient of the loss with respect to the variables $ W_1 $, $b_1$, $W_2$, and $b_2$. Now that you (hopefully!) have a correctly implemented forward pass, you can debug your backward pass using a numeric gradient check"
      ]
    },
    {
      "cell_type": "code",
      "metadata": {
        "id": "ZU9_JZk4RNst",
        "colab_type": "code",
        "colab": {}
      },
      "source": [
        "loss, grads = net.loss(X, y, reg=0.05)\n",
        "\n",
        "# these should all be less than 1e-8 or so\n",
        "for param_name in grads:\n",
        "    f = lambda W: net.loss(X, y, reg=0.05)[0]\n",
        "    param_grad_num = eval_numerical_gradient(f, net.params[param_name], verbose=False)\n",
        "    print('%s max relative error: %e' % (param_name, rel_error(param_grad_num, grads[param_name])))"
      ],
      "execution_count": 0,
      "outputs": []
    },
    {
      "cell_type": "markdown",
      "metadata": {
        "id": "2NZxPEV_S-gb",
        "colab_type": "text"
      },
      "source": [
        "##Train the network\n",
        "To train the network we will use stochastic gradient descent (SGD), similar to the Softmax classifiers. Look at the function `TwoLayerNet.train` and fill in the missing sections to implement the training procedure. This should be very similar to the training procedure you used for the Softmax classifiers. You will also have to implement `TwoLayerNet.predict`, as the training process periodically performs prediction to keep track of accuracy over time while the network trains"
      ]
    },
    {
      "cell_type": "code",
      "metadata": {
        "id": "yHh-sqiQTX-9",
        "colab_type": "code",
        "colab": {}
      },
      "source": [
        "net = init_toy_model()\n",
        "stats = net.train(X, y, X, y,\n",
        "            learning_rate=1e-1, reg=5e-6,\n",
        "            num_iters=100, verbose=False)\n",
        "\n",
        "print('Final training loss: ', stats['loss_history'][-1])\n",
        "\n",
        "# plot the loss history\n",
        "plt.plot(stats['loss_history'])\n",
        "plt.xlabel('iteration')\n",
        "plt.ylabel('training loss')\n",
        "plt.title('Training Loss history')\n",
        "plt.show()"
      ],
      "execution_count": 0,
      "outputs": []
    },
    {
      "cell_type": "markdown",
      "metadata": {
        "id": "qHfxAMBbVjY3",
        "colab_type": "text"
      },
      "source": [
        "# MNIST example"
      ]
    },
    {
      "cell_type": "markdown",
      "metadata": {
        "id": "13C8L6zhT7Ya",
        "colab_type": "text"
      },
      "source": [
        "##Load data"
      ]
    },
    {
      "cell_type": "code",
      "metadata": {
        "id": "VYP_xrnaq7FZ",
        "colab_type": "code",
        "colab": {}
      },
      "source": [
        "def load_MNIST():\n",
        "    test_data = pd.read_csv('/content/sample_data/mnist_test.csv').values\n",
        "    train_data = pd.read_csv('/content/sample_data/mnist_train_small.csv').values\n",
        "    xtrain = np.reshape(train_data[:, 1:], [-1, 28, 28, 1]).astype(np.float32)\n",
        "    ytrain = train_data[:, 0]\n",
        "    xtest = np.reshape(test_data[:, 1:], [-1, 28, 28, 1]).astype(np.float32)\n",
        "    ytest = test_data[:, 0]\n",
        "    return xtrain, ytrain, xtest, ytest\n",
        "  "
      ],
      "execution_count": 0,
      "outputs": []
    },
    {
      "cell_type": "code",
      "metadata": {
        "id": "dZzMW9YrcL8U",
        "colab_type": "code",
        "colab": {}
      },
      "source": [
        "def get_MNIST_data(num_training=15000, num_validation=1000, num_test=1000):\n",
        "  \"\"\"\n",
        "  Load the CIFAR-10 dataset from disk and perform preprocessing to prepare\n",
        "  it for the linear classifier. These are the same steps as we used for the\n",
        "  SVM, but condensed to a single function.  \n",
        "  \"\"\"\n",
        "  # Load the csv MNIST data\n",
        "  X_train, y_train, X_test, y_test = load_MNIST()\n",
        "  \n",
        "  # subsample the data\n",
        "  mask = range(num_training, num_training + num_validation)\n",
        "  X_val = X_train[mask]\n",
        "  y_val = y_train[mask]\n",
        "  mask = range(num_training)\n",
        "  X_train = X_train[mask]\n",
        "  y_train = y_train[mask]\n",
        "  mask = range(num_test)\n",
        "  X_test = X_test[mask]\n",
        "  y_test = y_test[mask]\n",
        "  \n",
        "  # Preprocessing: reshape the image data into rows\n",
        "  X_train = np.reshape(X_train, (X_train.shape[0], -1))\n",
        "  X_val = np.reshape(X_val, (X_val.shape[0], -1))\n",
        "  X_test = np.reshape(X_test, (X_test.shape[0], -1))\n",
        "  \n",
        "  # Normalize the data: subtract the mean image\n",
        "  mean_image = np.mean(X_train, axis=0)\n",
        "  X_train -= mean_image\n",
        "  X_val -= mean_image\n",
        "  X_test -= mean_image\n",
        "  \n",
        "  # DO NOT add bias dimension and transform into columns\n",
        "  # X_train = np.hstack([X_train, np.ones((X_train.shape[0], 1))]).T\n",
        "  # X_val = np.hstack([X_val, np.ones((X_val.shape[0], 1))]).T\n",
        "  # X_test = np.hstack([X_test, np.ones((X_test.shape[0], 1))]).T\n",
        "  \n",
        "  return X_train, y_train, X_val, y_val, X_test, y_test\n",
        "\n",
        "\n",
        "# Invoke the above function to get our data.\n",
        "X_train, y_train, X_val, y_val, X_test, y_test = get_MNIST_data()\n",
        "print('Train data shape: ', X_train.shape)\n",
        "print('Train labels shape: ', y_train.shape)\n",
        "print('Validation data shape: ', X_val.shape)\n",
        "print('Validation labels shape: ', y_val.shape)\n",
        "print('Test data shape: ', X_test.shape)\n",
        "print('Test labels shape: ', y_test.shape)"
      ],
      "execution_count": 0,
      "outputs": []
    },
    {
      "cell_type": "markdown",
      "metadata": {
        "id": "8p9kX2TQUm5w",
        "colab_type": "text"
      },
      "source": [
        "##Train a network\n",
        "To train our network we will use SGD. In addition, we will adjust the learning rate with an exponential learning rate schedule as optimization proceeds; after each epoch, we will reduce the learning rate by multiplying it by a decay rate."
      ]
    },
    {
      "cell_type": "code",
      "metadata": {
        "id": "DF8GaHE6UtKz",
        "colab_type": "code",
        "colab": {}
      },
      "source": [
        "input_size = 28 * 28 * 1\n",
        "hidden_size = 50\n",
        "num_classes = 10\n",
        "net = TwoLayerNet(input_size, hidden_size, num_classes)\n",
        "\n",
        "# Train the network\n",
        "stats = net.train(X_train, y_train, X_val, y_val,\n",
        "            num_iters=1000, batch_size=200,\n",
        "            learning_rate=1e-4, learning_rate_decay=0.95,\n",
        "            reg=0.25, verbose=True)\n",
        "\n",
        "# Predict on the validation set\n",
        "val_acc = (net.predict(X_val) == y_val).mean()\n",
        "print('Validation accuracy: ', val_acc)\n"
      ],
      "execution_count": 0,
      "outputs": []
    },
    {
      "cell_type": "markdown",
      "metadata": {
        "id": "cuXAeWUnWaGd",
        "colab_type": "text"
      },
      "source": [
        "##Debug the training\n",
        "With the default parameters we provided above, you should get a validation accuracy of about 0.51 on the validation set. This isn't very good.\n",
        "\n",
        "One strategy for getting insight into what's wrong is to plot the loss function and the accuracies on the training and validation sets during optimization.\n",
        "\n",
        "Another strategy is to visualize the weights that were learned in the first layer of the network. In most neural networks trained on visual data, the first layer weights typically show some visible structure when visualized."
      ]
    },
    {
      "cell_type": "code",
      "metadata": {
        "id": "SdewiRchWpL8",
        "colab_type": "code",
        "colab": {}
      },
      "source": [
        "# Plot the loss function and train / validation accuracies\n",
        "plt.subplot(2, 1, 1)\n",
        "plt.plot(stats['loss_history'])\n",
        "plt.title('Loss history')\n",
        "plt.xlabel('Iteration')\n",
        "plt.ylabel('Loss')\n",
        "\n",
        "plt.subplot(2, 1, 2)\n",
        "plt.plot(stats['train_acc_history'], label='train')\n",
        "plt.plot(stats['val_acc_history'], label='val')\n",
        "plt.title('Classification accuracy history')\n",
        "plt.xlabel('Epoch')\n",
        "plt.ylabel('Clasification accuracy')\n",
        "plt.legend(fontsize=14)\n",
        "plt.tight_layout()\n",
        "plt.show()"
      ],
      "execution_count": 0,
      "outputs": []
    },
    {
      "cell_type": "code",
      "metadata": {
        "id": "FNYDzcmb0znn",
        "colab_type": "code",
        "colab": {}
      },
      "source": [
        "# Visualize the weights of the network\n",
        "\n",
        "def show_net_weights(net):\n",
        "    W1 = net.params['W1']\n",
        "    print(W1.shape)\n",
        "    W1 = W1.reshape(28, 28, 1, -1).transpose(3, 0, 1, 2)\n",
        "    \n",
        "    grid = visualize_grid(W1, padding=1)\n",
        "    print(grid.shape)\n",
        "    plt.imshow(grid.astype('uint8')[:,:,0], cmap='gray')\n",
        "    plt.gca().axis('off')\n",
        "    plt.show()\n",
        "\n",
        "show_net_weights(net)"
      ],
      "execution_count": 0,
      "outputs": []
    },
    {
      "cell_type": "markdown",
      "metadata": {
        "id": "0zmb45t8_ijE",
        "colab_type": "text"
      },
      "source": [
        "##Tune hyperparameters\n",
        "**What's wrong?** Looking at the visualisations above, we see that the loss is decreasing more or less linearly, which seems to suggest that the learning rate may be too low. Moreover, there is no gap between the training and validation accuracy, suggesting that the model we used has **low capacity**. and that we should increase its size. On the other hand, with a very large model we would expect to see more overfitting, which would manifest itself as a very large gap between the training and validation accuracy.\n",
        "\n",
        "**Tuning**. Tuning the hyperparameters and developing intuition for how they affect the final performance is a large part of using Neural Networks, so we want you to get a lot of practice. Below, you should experiment with different values of the various hyperparameters, including hidden layer size, learning rate, numer of training epochs, and regularization strength. You might also consider tuning the learning rate decay, but you should be able to get good performance using the default value.\n",
        "\n",
        "**Approximate results**. You should be aim to achieve a classification accuracy of greater than 92% on the validation set. Our best network gets over 96.5% on the validation set.\n",
        "\n",
        "**Experiment**: You goal in this exercise is to get as good of a result on MNIST as you can, with a fully-connected Neural Network. Feel free implement your own techniques (e.g. PCA to reduce dimensionality, or adding dropout, or adding features to the solver, etc.). We will go through these \"bells and whisltes\" in the next lecture"
      ]
    },
    {
      "cell_type": "code",
      "metadata": {
        "id": "PVPNRAyfAH8z",
        "colab_type": "code",
        "colab": {}
      },
      "source": [
        "best_net = None # store the best model into this \n",
        "best_val = -1\n",
        "best_stats = {}\n",
        "\n",
        "#################################################################################\n",
        "# TODO: Tune hyperparameters using the validation set. Store your best trained  #\n",
        "# model in best_net.                                                            #\n",
        "#                                                                               #\n",
        "# To help debug your network, it may help to use visualizations similar to the  #\n",
        "# ones we used above; these visualizations will have significant qualitative    #\n",
        "# differences from the ones we saw above for the poorly tuned network.          #\n",
        "#                                                                               #\n",
        "# Tweaking hyperparameters by hand can be fun, but you might find it useful to  #\n",
        "# write code to sweep through possible combinations of hyperparameters          #\n",
        "# automatically like we did on the previous exercises.                          #\n",
        "#################################################################################\n",
        "learning_rates = np.logspace(-3, -2.5, 3) \n",
        "regularization_strengths = np.logspace(-3, 0, 3)\n",
        "h_sizes = [50, 80, 100, 120, 150, 180, 200][0:3]\n",
        "combinatorial_list = [learning_rates, regularization_strengths, h_sizes]\n",
        "\n",
        "iters = 1000 #100\n",
        "from itertools import product\n",
        "for lr, reg, hidden_size in product(*combinatorial_list):\n",
        "  # Create a two-layer network\n",
        "  net = TwoLayerNet(input_size, hidden_size, num_classes)\n",
        "  # Train the network\n",
        "  stats = net.train(X_train, y_train, X_val, y_val,\n",
        "                    num_iters=iters, batch_size=64,\n",
        "                    learning_rate=lr, learning_rate_decay=0.95,\n",
        "                    reg=reg, verbose=False)\n",
        "  # Predict on the training set\n",
        "  train_accuracy = (net.predict(X_train) == y_train).mean()\n",
        "  # Predict on the validation set\n",
        "  val_accuracy = (net.predict(X_val) == y_val).mean()\n",
        "  \n",
        "  # Save best values\n",
        "  if val_accuracy > best_val:\n",
        "    best_val = val_accuracy\n",
        "    best_net = net\n",
        "    best_stats = stats\n",
        "  # Print results\n",
        "  print('lr %e reg %e hid %d  train accuracy: %f val accuracy: %f' % (\n",
        "              lr, reg, hidden_size, train_accuracy, val_accuracy))\n",
        "print('best validation accuracy achieved: %f' % best_val)"
      ],
      "execution_count": 0,
      "outputs": []
    },
    {
      "cell_type": "code",
      "metadata": {
        "id": "21RhbeqmLKSp",
        "colab_type": "code",
        "colab": {}
      },
      "source": [
        "# Plot the loss function and train / validation accuracies\n",
        "plt.subplot(2, 1, 1)\n",
        "plt.plot(best_stats['loss_history'])\n",
        "plt.title('Loss history')\n",
        "plt.xlabel('Iteration')\n",
        "plt.ylabel('Loss')\n",
        "\n",
        "plt.subplot(2, 1, 2)\n",
        "plt.plot(best_stats['train_acc_history'], label='train')\n",
        "plt.plot(best_stats['val_acc_history'], label='val')\n",
        "plt.title('Classification accuracy history')\n",
        "plt.xlabel('Epoch')\n",
        "plt.ylabel('Clasification accuracy')\n",
        "plt.legend()\n",
        "plt.tight_layout()\n",
        "plt.show()"
      ],
      "execution_count": 0,
      "outputs": []
    },
    {
      "cell_type": "code",
      "metadata": {
        "id": "8lig9-HVQCG9",
        "colab_type": "code",
        "colab": {}
      },
      "source": [
        "show_net_weights(best_net)"
      ],
      "execution_count": 0,
      "outputs": []
    },
    {
      "cell_type": "markdown",
      "metadata": {
        "id": "GONvte0cQSjW",
        "colab_type": "text"
      },
      "source": [
        "##Inference on the test set\n",
        "When you are done experimenting, you should evaluate your final trained network on the test set; you should get above 95%."
      ]
    },
    {
      "cell_type": "code",
      "metadata": {
        "id": "ftH7Q5VXQuCg",
        "colab_type": "code",
        "colab": {}
      },
      "source": [
        "test_acc = (best_net.predict(X_test) == y_test).mean()\n",
        "print('Test accuracy: ', test_acc)"
      ],
      "execution_count": 0,
      "outputs": []
    },
    {
      "cell_type": "markdown",
      "metadata": {
        "id": "z1JQzAVoRK7Q",
        "colab_type": "text"
      },
      "source": [
        "##Final quiz\n",
        "\n",
        "Now that you have trained a Neural Network classifier, you may find that your testing accuracy is much lower than the training accuracy. In what ways can we decrease this gap? Select all that apply.\n",
        "\n",
        "1. Train on a larger dataset.\n",
        "2. Add more hidden units.\n",
        "3. Increase the regularization strength.\n",
        "4. None of the above."
      ]
    }
  ]
}