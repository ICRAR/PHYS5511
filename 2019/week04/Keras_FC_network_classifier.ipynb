{
  "nbformat": 4,
  "nbformat_minor": 0,
  "metadata": {
    "colab": {
      "name": "Keras_FC_network_classifier.ipynb",
      "version": "0.3.2",
      "provenance": [],
      "toc_visible": true,
      "include_colab_link": true
    },
    "kernelspec": {
      "name": "python3",
      "display_name": "Python 3"
    }
  },
  "cells": [
    {
      "cell_type": "markdown",
      "metadata": {
        "id": "view-in-github",
        "colab_type": "text"
      },
      "source": [
        "<a href=\"https://colab.research.google.com/github/ICRAR/PHYS5511/blob/master/2019/week04/Keras_FC_network_classifier.ipynb\" target=\"_parent\"><img src=\"https://colab.research.google.com/assets/colab-badge.svg\" alt=\"Open In Colab\"/></a>"
      ]
    },
    {
      "cell_type": "code",
      "metadata": {
        "id": "O0NIs9Zmm0xC",
        "colab_type": "code",
        "colab": {}
      },
      "source": [
        "import numpy as np\n",
        "import matplotlib.pyplot as plt\n",
        "import pandas as pd\n",
        "import time\n",
        "from builtins import range\n",
        "from math import sqrt, ceil\n",
        "\n",
        "import keras\n",
        "#from keras.datasets import mnist\n",
        "from keras.models import Sequential, Model\n",
        "from keras.layers import Dense, Dropout, Flatten, Input\n",
        "from keras.layers import Conv2D, MaxPooling2D\n",
        "from keras import backend as K\n",
        "from keras.utils.vis_utils import model_to_dot\n",
        "\n",
        "\n",
        "%matplotlib inline\n",
        "plt.rcParams['figure.figsize'] = (10.0, 8.0) # set default size of plots\n",
        "plt.rcParams['image.interpolation'] = 'nearest'\n",
        "plt.rcParams['image.cmap'] = 'gray'\n",
        "from IPython.display import SVG"
      ],
      "execution_count": 0,
      "outputs": []
    },
    {
      "cell_type": "markdown",
      "metadata": {
        "id": "9Uh5ky0fXLC-",
        "colab_type": "text"
      },
      "source": [
        "#Vis utils"
      ]
    },
    {
      "cell_type": "code",
      "metadata": {
        "id": "I07dSA1HXOEK",
        "colab_type": "code",
        "colab": {}
      },
      "source": [
        "#@title visualization utilities [RUN ME]\n",
        "def visualize_grid(Xs, ubound=255.0, padding=1):\n",
        "    \"\"\"\n",
        "    Reshape a 4D tensor of image data to a grid for easy visualization.\n",
        "\n",
        "    Inputs:\n",
        "    - Xs: Data of shape (N, H, W, C)\n",
        "    - ubound: Output grid will have values scaled to the range [0, ubound]\n",
        "    - padding: The number of blank pixels between elements of the grid\n",
        "    \"\"\"\n",
        "    (N, H, W, C) = Xs.shape\n",
        "    grid_size = int(ceil(sqrt(N)))\n",
        "    grid_height = H * grid_size + padding * (grid_size - 1)\n",
        "    grid_width = W * grid_size + padding * (grid_size - 1)\n",
        "    grid = np.zeros((grid_height, grid_width, C))\n",
        "    next_idx = 0\n",
        "    y0, y1 = 0, H\n",
        "    for y in range(grid_size):\n",
        "        x0, x1 = 0, W\n",
        "        for x in range(grid_size):\n",
        "            if next_idx < N:\n",
        "                img = Xs[next_idx]\n",
        "                low, high = np.min(img), np.max(img)\n",
        "                grid[y0:y1, x0:x1] = ubound * (img - low) / (high - low)\n",
        "                # grid[y0:y1, x0:x1] = Xs[next_idx]\n",
        "                next_idx += 1\n",
        "            x0 += W + padding\n",
        "            x1 += W + padding\n",
        "        y0 += H + padding\n",
        "        y1 += H + padding\n",
        "    # grid_max = np.max(grid)\n",
        "    # grid_min = np.min(grid)\n",
        "    # grid = ubound * (grid - grid_min) / (grid_max - grid_min)\n",
        "    return grid\n",
        "\n",
        "def vis_grid(Xs):\n",
        "    \"\"\" visualize a grid of images \"\"\"\n",
        "    (N, H, W, C) = Xs.shape\n",
        "    A = int(ceil(sqrt(N)))\n",
        "    G = np.ones((A*H+A, A*W+A, C), Xs.dtype)\n",
        "    G *= np.min(Xs)\n",
        "    n = 0\n",
        "    for y in range(A):\n",
        "        for x in range(A):\n",
        "            if n < N:\n",
        "                G[y*H+y:(y+1)*H+y, x*W+x:(x+1)*W+x, :] = Xs[n,:,:,:]\n",
        "                n += 1\n",
        "    # normalize to [0,1]\n",
        "    maxg = G.max()\n",
        "    ming = G.min()\n",
        "    G = (G - ming)/(maxg-ming)\n",
        "    return G\n",
        "\n",
        "def vis_nn(rows):\n",
        "    \"\"\" visualize array of arrays of images \"\"\"\n",
        "    N = len(rows)\n",
        "    D = len(rows[0])\n",
        "    H,W,C = rows[0][0].shape\n",
        "    Xs = rows[0][0]\n",
        "    G = np.ones((N*H+N, D*W+D, C), Xs.dtype)\n",
        "    for y in range(N):\n",
        "        for x in range(D):\n",
        "            G[y*H+y:(y+1)*H+y, x*W+x:(x+1)*W+x, :] = rows[y][x]\n",
        "    # normalize to [0,1]\n",
        "    maxg = G.max()\n",
        "    ming = G.min()\n",
        "    G = (G - ming)/(maxg-ming)\n",
        "    return G\n"
      ],
      "execution_count": 0,
      "outputs": []
    },
    {
      "cell_type": "markdown",
      "metadata": {
        "id": "NyDlE4oPaGhp",
        "colab_type": "text"
      },
      "source": [
        "#Keras FC network classifier"
      ]
    },
    {
      "cell_type": "code",
      "metadata": {
        "id": "Bo4oVhJ9dTGX",
        "colab_type": "code",
        "colab": {}
      },
      "source": [
        "model = Sequential()\n",
        "model.add(Dense(128, input_shape=(784,), activation='relu', name='first_hidden'))\n",
        "#model.add(Dropout(0.5))\n",
        "model.add(Dense(64, activation='relu', name='second_hidden'))\n",
        "#model.add(Dropout(0.5))\n",
        "model.add(Dense(10, activation='softmax'))\n",
        "\n",
        "model.compile(optimizer='adam',\n",
        "              loss='categorical_crossentropy',\n",
        "              metrics=['accuracy'])\n",
        "model.summary()"
      ],
      "execution_count": 0,
      "outputs": []
    },
    {
      "cell_type": "code",
      "metadata": {
        "id": "Dkr57Jodf7W0",
        "colab_type": "code",
        "colab": {}
      },
      "source": [
        "SVG(model_to_dot(model, show_shapes=True).create(prog='dot', format='svg'))"
      ],
      "execution_count": 0,
      "outputs": []
    },
    {
      "cell_type": "markdown",
      "metadata": {
        "id": "qHfxAMBbVjY3",
        "colab_type": "text"
      },
      "source": [
        "# MNIST example"
      ]
    },
    {
      "cell_type": "markdown",
      "metadata": {
        "id": "13C8L6zhT7Ya",
        "colab_type": "text"
      },
      "source": [
        "##Load data"
      ]
    },
    {
      "cell_type": "code",
      "metadata": {
        "id": "VYP_xrnaq7FZ",
        "colab_type": "code",
        "colab": {}
      },
      "source": [
        "def load_MNIST():\n",
        "    test_data = pd.read_csv('/content/sample_data/mnist_test.csv').values\n",
        "    train_data = pd.read_csv('/content/sample_data/mnist_train_small.csv').values\n",
        "    xtrain = np.reshape(train_data[:, 1:], [-1, 28, 28, 1]).astype(np.float32)\n",
        "    ytrain = train_data[:, 0]\n",
        "    xtest = np.reshape(test_data[:, 1:], [-1, 28, 28, 1]).astype(np.float32)\n",
        "    ytest = test_data[:, 0]\n",
        "    return xtrain / 255, ytrain, xtest / 255, ytest\n",
        "  "
      ],
      "execution_count": 0,
      "outputs": []
    },
    {
      "cell_type": "code",
      "metadata": {
        "id": "dZzMW9YrcL8U",
        "colab_type": "code",
        "colab": {}
      },
      "source": [
        "def get_MNIST_data(num_training=18000, num_validation=1000, num_test=1000):\n",
        "  \"\"\"\n",
        "  Load the CIFAR-10 dataset from disk and perform preprocessing to prepare\n",
        "  it for the linear classifier. These are the same steps as we used for the\n",
        "  SVM, but condensed to a single function.  \n",
        "  \"\"\"\n",
        "  # Load the csv MNIST data\n",
        "  X_train, y_train, X_test, y_test = load_MNIST()\n",
        "  \n",
        "  # subsample the data\n",
        "  mask = range(num_training, num_training + num_validation)\n",
        "  X_val = X_train[mask]\n",
        "  y_val = y_train[mask]\n",
        "  mask = range(num_training)\n",
        "  X_train = X_train[mask]\n",
        "  y_train = y_train[mask]\n",
        "  mask = range(num_test)\n",
        "  X_test = X_test[mask]\n",
        "  y_test = y_test[mask]\n",
        "  \n",
        "  # Preprocessing: reshape the image data into rows\n",
        "  X_train = np.reshape(X_train, (X_train.shape[0], -1))\n",
        "  X_val = np.reshape(X_val, (X_val.shape[0], -1))\n",
        "  X_test = np.reshape(X_test, (X_test.shape[0], -1))\n",
        "  \n",
        "  # Normalize the data: subtract the mean image\n",
        "  mean_image = np.mean(X_train, axis=0)\n",
        "  X_train -= mean_image\n",
        "  X_val -= mean_image\n",
        "  X_test -= mean_image\n",
        "  \n",
        "  # DO NOT add bias dimension and transform into columns\n",
        "  # X_train = np.hstack([X_train, np.ones((X_train.shape[0], 1))]).T\n",
        "  # X_val = np.hstack([X_val, np.ones((X_val.shape[0], 1))]).T\n",
        "  # X_test = np.hstack([X_test, np.ones((X_test.shape[0], 1))]).T\n",
        "  \n",
        "  return X_train, y_train, X_val, y_val, X_test, y_test\n",
        "\n",
        "\n",
        "# Invoke the above function to get our data.\n",
        "X_train, y_train, X_val, y_val, X_test, y_test = get_MNIST_data()\n",
        "print('Train data shape: ', X_train.shape)\n",
        "print('Train labels shape: ', y_train.shape)\n",
        "print('Validation data shape: ', X_val.shape)\n",
        "print('Validation labels shape: ', y_val.shape)\n",
        "print('Test data shape: ', X_test.shape)\n",
        "print('Test labels shape: ', y_test.shape)"
      ],
      "execution_count": 0,
      "outputs": []
    },
    {
      "cell_type": "markdown",
      "metadata": {
        "id": "bFsCXFxMbvWm",
        "colab_type": "text"
      },
      "source": [
        "##check images"
      ]
    },
    {
      "cell_type": "code",
      "metadata": {
        "id": "cuXo013Ibx6m",
        "colab_type": "code",
        "colab": {}
      },
      "source": [
        "print(y_test[3])\n",
        "plt.imshow(X_test[3].reshape([28, 28]))"
      ],
      "execution_count": 0,
      "outputs": []
    },
    {
      "cell_type": "markdown",
      "metadata": {
        "id": "uD_FFqz9jUIL",
        "colab_type": "text"
      },
      "source": [
        "## Train the Keras FC network"
      ]
    },
    {
      "cell_type": "code",
      "metadata": {
        "id": "gmAQPURTkCX7",
        "colab_type": "code",
        "colab": {}
      },
      "source": [
        "y_train_K = keras.utils.to_categorical(y_train, 10)\n",
        "y_val_K = keras.utils.to_categorical(y_val, 10)\n",
        "y_test_K = keras.utils.to_categorical(y_test, 10)"
      ],
      "execution_count": 0,
      "outputs": []
    },
    {
      "cell_type": "code",
      "metadata": {
        "id": "qyHOZSgNjTq6",
        "colab_type": "code",
        "colab": {}
      },
      "source": [
        "history = model.fit(X_train, y_train_K,\n",
        "                          validation_data=(X_val, y_val_K),\n",
        "                          epochs=10, batch_size=200, \n",
        "                          callbacks=None)"
      ],
      "execution_count": 0,
      "outputs": []
    },
    {
      "cell_type": "markdown",
      "metadata": {
        "id": "BY8XN-m3lO6E",
        "colab_type": "text"
      },
      "source": [
        "##Debug the training for keras FC network"
      ]
    },
    {
      "cell_type": "code",
      "metadata": {
        "id": "tYfPW6kVlVu9",
        "colab_type": "code",
        "colab": {}
      },
      "source": [
        "from matplotlib.ticker import MaxNLocator\n",
        "fig = plt.figure(figsize=(10, 6))\n",
        "ax = fig.gca()\n",
        "ax.xaxis.set_major_locator(MaxNLocator(integer=True))\n",
        "histories = history.history.items()\n",
        "xvals = np.arange(1, 11)\n",
        "for k, v in histories:\n",
        "    plt.plot(xvals, v, label=k if 'val_' in k else 'train_%s' % k)\n",
        "\n",
        "plt.legend(loc='best', fontsize=14)\n",
        "plt.suptitle('Loss curve', fontsize=16)\n",
        "plt.ylabel('MSE', fontsize=14)\n",
        "plt.xlabel('Epoch', fontsize=14)"
      ],
      "execution_count": 0,
      "outputs": []
    },
    {
      "cell_type": "code",
      "metadata": {
        "id": "IR1fDmwgnbC2",
        "colab_type": "code",
        "colab": {}
      },
      "source": [
        "def show_keras_net_weights():\n",
        "    W1 = model.layers[0].get_weights()[0]\n",
        "    \n",
        "    print(W1.shape)\n",
        "    W1 = W1.reshape(28, 28, 1, -1).transpose(3, 0, 1, 2)\n",
        "    \n",
        "    grid = visualize_grid(W1, padding=1)\n",
        "    print(grid.shape)\n",
        "    plt.imshow(grid.astype('uint8')[:,:,0], cmap='gray')\n",
        "    plt.gca().axis('off')\n",
        "    plt.show()\n",
        "\n",
        "#type(model.layers)\n",
        "#for layer in model.layers: print(layer.get_config(), layer.get_weights())\n",
        "show_keras_net_weights()"
      ],
      "execution_count": 0,
      "outputs": []
    },
    {
      "cell_type": "markdown",
      "metadata": {
        "id": "GONvte0cQSjW",
        "colab_type": "text"
      },
      "source": [
        "#Inference on the test set\n",
        "When you are done experimenting, you should evaluate your final trained network on the test set; you should get above 95%."
      ]
    },
    {
      "cell_type": "code",
      "metadata": {
        "colab_type": "code",
        "id": "RoV50NcusS3Q",
        "colab": {}
      },
      "source": [
        "score = model.evaluate(X_test, y_test_K, verbose=0)\n",
        "print('Test loss:', score[0])\n",
        "print('Test accuracy:', score[1])"
      ],
      "execution_count": 0,
      "outputs": []
    },
    {
      "cell_type": "code",
      "metadata": {
        "id": "5gV4UWcasUJd",
        "colab_type": "code",
        "colab": {}
      },
      "source": [
        "np.argmax(model.predict(X_test[3].reshape([-1, 784])))"
      ],
      "execution_count": 0,
      "outputs": []
    },
    {
      "cell_type": "markdown",
      "metadata": {
        "id": "0zmb45t8_ijE",
        "colab_type": "text"
      },
      "source": [
        "#Tune hyperparameters (Change me - Home work!)\n",
        "**What's wrong?** Looking at the visualisations above, we see that the loss is decreasing more or less linearly, which seems to suggest that the learning rate may be too low. Moreover, there is no gap between the training and validation accuracy, suggesting that the model we used has **low capacity**. and that we should increase its size. On the other hand, with a very large model we would expect to see more overfitting, which would manifest itself as a very large gap between the training and validation accuracy.\n",
        "\n",
        "**Tuning**. Tuning the hyperparameters and developing intuition for how they affect the final performance is a large part of using Neural Networks, so we want you to get a lot of practice. Below, you should experiment with different values of the various hyperparameters, including hidden layer size, learning rate, numer of training epochs, and regularization strength. You might also consider tuning the learning rate decay, but you should be able to get good performance using the default value.\n",
        "\n",
        "**Approximate results**. You should be aim to achieve a classification accuracy of greater than 92% on the validation set. Our best network gets over 96.5% on the validation set.\n",
        "\n",
        "**Experiment**: You goal in this exercise is to get as good of a result on MNIST as you can, with a fully-connected Neural Network. Feel free implement your own techniques (e.g. PCA to reduce dimensionality, or adding dropout, or adding features to the solver, etc.). We will go through these \"bells and whisltes\" in the next lecture"
      ]
    },
    {
      "cell_type": "code",
      "metadata": {
        "id": "PVPNRAyfAH8z",
        "colab_type": "code",
        "colab": {}
      },
      "source": [
        "best_net = None # store the best model into this \n",
        "best_val = -1\n",
        "best_stats = {}\n",
        "\n",
        "#################################################################################\n",
        "# TODO: Tune hyperparameters using the validation set. Store your best trained  #\n",
        "# model in best_net.                                                            #\n",
        "#                                                                               #\n",
        "# To help debug your network, it may help to use visualizations similar to the  #\n",
        "# ones we used above; these visualizations will have significant qualitative    #\n",
        "# differences from the ones we saw above for the poorly tuned network.          #\n",
        "#                                                                               #\n",
        "# Tweaking hyperparameters by hand can be fun, but you might find it useful to  #\n",
        "# write code to sweep through possible combinations of hyperparameters          #\n",
        "# automatically like we did on the previous exercises.                          #\n",
        "#################################################################################\n",
        "learning_rates = np.logspace(-3, -2.5, 3) \n",
        "regularization_strengths = np.logspace(-3, 0, 3)\n",
        "h_sizes = [50, 80, 100, 120, 150, 180, 200][0:3]\n",
        "combinatorial_list = [learning_rates, regularization_strengths, h_sizes]\n",
        "\n",
        "iters = 1000 #100\n",
        "from itertools import product\n",
        "for lr, reg, hidden_size in product(*combinatorial_list):\n",
        "  # Create a two-layer network\n",
        "  net = TwoLayerNet(input_size, hidden_size, num_classes)\n",
        "  # Train the network\n",
        "  stats = net.train(X_train, y_train, X_val, y_val,\n",
        "                    num_iters=iters, batch_size=64,\n",
        "                    learning_rate=lr, learning_rate_decay=0.95,\n",
        "                    reg=reg, verbose=False)\n",
        "  # Predict on the training set\n",
        "  train_accuracy = (net.predict(X_train) == y_train).mean()\n",
        "  # Predict on the validation set\n",
        "  val_accuracy = (net.predict(X_val) == y_val).mean()\n",
        "  \n",
        "  # Save best values\n",
        "  if val_accuracy > best_val:\n",
        "    best_val = val_accuracy\n",
        "    best_net = net\n",
        "    best_stats = stats\n",
        "  # Print results\n",
        "  print('lr %e reg %e hid %d  train accuracy: %f val accuracy: %f' % (\n",
        "              lr, reg, hidden_size, train_accuracy, val_accuracy))\n",
        "print('best validation accuracy achieved: %f' % best_val)"
      ],
      "execution_count": 0,
      "outputs": []
    },
    {
      "cell_type": "code",
      "metadata": {
        "id": "21RhbeqmLKSp",
        "colab_type": "code",
        "colab": {}
      },
      "source": [
        "# Plot the loss function and train / validation accuracies\n",
        "plt.subplot(2, 1, 1)\n",
        "plt.plot(best_stats['loss_history'])\n",
        "plt.title('Loss history')\n",
        "plt.xlabel('Iteration')\n",
        "plt.ylabel('Loss')\n",
        "\n",
        "plt.subplot(2, 1, 2)\n",
        "plt.plot(best_stats['train_acc_history'], label='train')\n",
        "plt.plot(best_stats['val_acc_history'], label='val')\n",
        "plt.title('Classification accuracy history')\n",
        "plt.xlabel('Epoch')\n",
        "plt.ylabel('Clasification accuracy')\n",
        "plt.legend()\n",
        "plt.tight_layout()\n",
        "plt.show()"
      ],
      "execution_count": 0,
      "outputs": []
    },
    {
      "cell_type": "code",
      "metadata": {
        "id": "8lig9-HVQCG9",
        "colab_type": "code",
        "colab": {}
      },
      "source": [
        "show_net_weights(best_net)"
      ],
      "execution_count": 0,
      "outputs": []
    },
    {
      "cell_type": "markdown",
      "metadata": {
        "id": "z1JQzAVoRK7Q",
        "colab_type": "text"
      },
      "source": [
        "##Final quiz\n",
        "\n",
        "Now that you have trained a Neural Network classifier, you may find that your testing accuracy is much lower than the training accuracy. In what ways can we decrease this gap? Select all that apply.\n",
        "\n",
        "1. Train on a larger dataset.\n",
        "2. Add more hidden units.\n",
        "3. Increase the regularization strength.\n",
        "4. None of the above."
      ]
    }
  ]
}