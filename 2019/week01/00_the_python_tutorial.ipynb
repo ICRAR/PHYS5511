{
  "nbformat": 4,
  "nbformat_minor": 0,
  "metadata": {
    "colab": {
      "name": "00_the_python_tutorial.ipynb",
      "version": "0.3.2",
      "provenance": []
    },
    "language_info": {
      "codemirror_mode": {
        "name": "ipython",
        "version": 3
      },
      "file_extension": ".py",
      "mimetype": "text/x-python",
      "name": "python",
      "nbconvert_exporter": "python",
      "pygments_lexer": "ipython3",
      "version": "3.7.2"
    },
    "kernelspec": {
      "display_name": "Python 3",
      "language": "python",
      "name": "python3"
    }
  },
  "cells": [
    {
      "cell_type": "markdown",
      "metadata": {
        "collapsed": true,
        "id": "VydqYFYxh4qY",
        "colab_type": "text"
      },
      "source": [
        "# The Python Tutorial\n",
        "\n",
        "### This tutorial is based on the official [Python3 tutorial ](https://docs.python.org/3/tutorial).\n",
        "\n",
        "Python is an easy to learn, powerful programming language. It has efficient high-level data structures and a simple but effective approach to object-oriented programming. Python’s elegant syntax and dynamic typing, together with its interpreted nature, make it an ideal language for scripting and rapid application development in many areas on most platforms.\n",
        "\n",
        "The Python interpreter and the extensive standard library are freely available in source or binary form for all major platforms from the Python Web site, https://www.python.org/, and may be freely distributed. The same site also contains distributions of and pointers to many free third party Python modules, programs and tools, and additional documentation.\n",
        "\n",
        "The Python interpreter is easily extended with new functions and data types implemented in C or C++ (or other languages callable from C). Python is also suitable as an extension language for customizable applications.\n",
        "\n",
        "This tutorial introduces the reader informally to the basic concepts and features of the Python language and system. It helps to have a Python interpreter handy for hands-on experience, but all examples are self-contained, so the tutorial can be read off-line as well.\n",
        "\n",
        "For a description of standard objects and modules, see [The Python Standard Library](https://docs.python.org/3/library/index.html#library-index). [The Python Language Reference](https://docs.python.org/3/reference/index.html#reference-index) gives a more formal definition of the language. To write extensions in C or C++, read [Extending and Embedding the Python Interpreter](https://docs.python.org/3/extending/index.html#extending-index) and [Python/C API Reference Manual](https://docs.python.org/3/c-api/index.html#c-api-index). There are also several books covering Python in depth."
      ]
    },
    {
      "cell_type": "markdown",
      "metadata": {
        "id": "9L7l5ge1h4qd",
        "colab_type": "text"
      },
      "source": [
        "# Running Code\n",
        "\n",
        "First and foremost, the Colab/Jupyter Notebook is an interactive environment for writing and running code. The notebook is capable of running code in a wide range of languages. This notebook is associated with the IPython kernel, and therefore runs Python code."
      ]
    },
    {
      "cell_type": "markdown",
      "metadata": {
        "id": "iUekalh6h4qf",
        "colab_type": "text"
      },
      "source": [
        "## Code cells allow you to enter and run code\n",
        "\n",
        "Run a code cell using `Ctl-Enter` or pressing the button by the row:"
      ]
    },
    {
      "cell_type": "code",
      "metadata": {
        "id": "9wlsLyr4h4qh",
        "colab_type": "code",
        "colab": {}
      },
      "source": [
        "a = 10"
      ],
      "execution_count": 0,
      "outputs": []
    },
    {
      "cell_type": "code",
      "metadata": {
        "id": "3Br2J8v3h4qm",
        "colab_type": "code",
        "colab": {}
      },
      "source": [
        "print(a)"
      ],
      "execution_count": 0,
      "outputs": []
    },
    {
      "cell_type": "markdown",
      "metadata": {
        "id": "jmBHJdKOh4qr",
        "colab_type": "text"
      },
      "source": [
        "## Managing the Kernel\n",
        "\n",
        "Code is run in a separate process called the Kernel.  The Kernel can be interrupted or restarted.  Try running the following cell and then go to the Runtime Menu and interrupt it."
      ]
    },
    {
      "cell_type": "code",
      "metadata": {
        "id": "x0Q0Rtzgh4qs",
        "colab_type": "code",
        "colab": {}
      },
      "source": [
        "import time\n",
        "time.sleep(10)"
      ],
      "execution_count": 0,
      "outputs": []
    },
    {
      "cell_type": "markdown",
      "metadata": {
        "id": "lsEdJnyfh4qw",
        "colab_type": "text"
      },
      "source": [
        "Link to [Chapter 03](03_an_informal_introduction_to_python.ipynb)"
      ]
    }
  ]
}