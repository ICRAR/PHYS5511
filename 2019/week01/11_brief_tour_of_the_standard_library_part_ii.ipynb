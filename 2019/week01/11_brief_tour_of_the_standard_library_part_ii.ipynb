{
  "nbformat": 4,
  "nbformat_minor": 0,
  "metadata": {
    "colab": {
      "name": "Untitled5.ipynb",
      "version": "0.3.2",
      "provenance": [],
      "toc_visible": true
    },
    "kernelspec": {
      "name": "python3",
      "display_name": "Python 3"
    }
  },
  "cells": [
    {
      "cell_type": "markdown",
      "metadata": {
        "id": "Pr0Pg4UnZyci",
        "colab_type": "text"
      },
      "source": [
        "# 11. Brief Tour of the Standard Library — Part II\n",
        "This second tour covers more advanced modules that support professional programming needs. These modules rarely occur in small scripts.\n"
      ]
    },
    {
      "cell_type": "markdown",
      "metadata": {
        "id": "4SdYFPSKgyYd",
        "colab_type": "text"
      },
      "source": [
        "\n",
        "## 11.1. Output Formatting\n",
        "The reprlib module provides a version of repr() customized for abbreviated displays of large or deeply nested containers:\n"
      ]
    },
    {
      "cell_type": "code",
      "metadata": {
        "id": "x9_t3j26Z6Nv",
        "colab_type": "code",
        "colab": {}
      },
      "source": [
        "import reprlib\n",
        "reprlib.repr(set('supercalifragilisticexpialidocious'))"
      ],
      "execution_count": 0,
      "outputs": []
    },
    {
      "cell_type": "markdown",
      "metadata": {
        "id": "wU1WkOe5aAcn",
        "colab_type": "text"
      },
      "source": [
        "\n",
        "The pprint module offers more sophisticated control over printing both built-in and user defined objects in a way that is readable by the interpreter. When the result is longer than one line, the “pretty printer” adds line breaks and indentation to more clearly reveal data structure:\n"
      ]
    },
    {
      "cell_type": "code",
      "metadata": {
        "id": "CReOSnGnajoz",
        "colab_type": "code",
        "colab": {}
      },
      "source": [
        "import pprint\n",
        "t = [[[['black', 'cyan'], 'white', ['green', 'red']], [['magenta',\n",
        "     'yellow'], 'blue']]]\n",
        "\n",
        "pprint.pprint(t, width=30) "
      ],
      "execution_count": 0,
      "outputs": []
    },
    {
      "cell_type": "markdown",
      "metadata": {
        "id": "p-0cbquiaqGC",
        "colab_type": "text"
      },
      "source": [
        "\n",
        "The textwrap module formats paragraphs of text to fit a given screen width:\n"
      ]
    },
    {
      "cell_type": "code",
      "metadata": {
        "id": "dL6ePRj0az5j",
        "colab_type": "code",
        "colab": {}
      },
      "source": [
        "import textwrap\n",
        "doc = \"\"\"The wrap() method is just like fill() except that it returns\n",
        "a list of strings instead of one big string with newlines to separate\n",
        "the wrapped lines.\"\"\"\n",
        "\n",
        "print(textwrap.fill(doc, width=40))"
      ],
      "execution_count": 0,
      "outputs": []
    },
    {
      "cell_type": "markdown",
      "metadata": {
        "id": "QTBD4v6ua6WQ",
        "colab_type": "text"
      },
      "source": [
        "\n",
        "The locale module accesses a database of culture specific data formats. The grouping attribute of locale’s format function provides a direct way of formatting numbers with group separators:\n"
      ]
    },
    {
      "cell_type": "code",
      "metadata": {
        "id": "TiOj2jmgbeUy",
        "colab_type": "code",
        "colab": {}
      },
      "source": [
        "import locale\n",
        "locale.setlocale(locale.LC_ALL, 'en_US.UTF-8')"
      ],
      "execution_count": 0,
      "outputs": []
    },
    {
      "cell_type": "code",
      "metadata": {
        "id": "XqQZ8ugDbkY-",
        "colab_type": "code",
        "colab": {}
      },
      "source": [
        "conv = locale.localeconv()          # get a mapping of conventions\n",
        "x = 1234567.8\n",
        "locale.format(\"%d\", x, grouping=True)\n",
        "'1,234,567'\n"
      ],
      "execution_count": 0,
      "outputs": []
    },
    {
      "cell_type": "code",
      "metadata": {
        "id": "7ZMIfQ3KbvES",
        "colab_type": "code",
        "colab": {}
      },
      "source": [
        "locale.format_string(\"%s%.*f\", (conv['currency_symbol'],\n",
        "                      conv['frac_digits'], x), grouping=True)"
      ],
      "execution_count": 0,
      "outputs": []
    },
    {
      "cell_type": "markdown",
      "metadata": {
        "id": "3aIJ7Lv1bban",
        "colab_type": "text"
      },
      "source": [
        "## 11.2. Templating\n",
        "The string module includes a versatile Template class with a simplified syntax suitable for editing by end-users. This allows users to customize their applications without having to alter the application.\n",
        "\n",
        "The format uses placeholder names formed by `$` with valid Python identifiers (alphanumeric characters and underscores). Surrounding the placeholder with braces allows it to be followed by more alphanumeric letters with no intervening spaces. Writing `$$` creates a single escaped `$`:\n"
      ]
    },
    {
      "cell_type": "code",
      "metadata": {
        "id": "0vRw4dindCV-",
        "colab_type": "code",
        "colab": {}
      },
      "source": [
        "from string import Template\n",
        "t = Template('${village}folk send $$10 to $cause.')\n",
        "t.substitute(village='Nottingham', cause='the ditch fund')"
      ],
      "execution_count": 0,
      "outputs": []
    },
    {
      "cell_type": "markdown",
      "metadata": {
        "id": "JMeks6DxdRju",
        "colab_type": "text"
      },
      "source": [
        "\n",
        "The `substitute()` method raises a `KeyError` when a placeholder is not supplied in a dictionary or a keyword argument. For mail-merge style applications, user supplied data may be incomplete and the `safe_substitute()` method may be more appropriate — it will leave placeholders unchanged if data is missing:\n"
      ]
    },
    {
      "cell_type": "code",
      "metadata": {
        "id": "zA_S66x5dgeW",
        "colab_type": "code",
        "colab": {}
      },
      "source": [
        "t = Template('Return the $item to $owner.')\n",
        "d = dict(item='unladen swallow')\n",
        "t.substitute(d)"
      ],
      "execution_count": 0,
      "outputs": []
    },
    {
      "cell_type": "code",
      "metadata": {
        "id": "c4eQ4uYLdplI",
        "colab_type": "code",
        "colab": {}
      },
      "source": [
        "t.safe_substitute(d)"
      ],
      "execution_count": 0,
      "outputs": []
    },
    {
      "cell_type": "markdown",
      "metadata": {
        "id": "r276uIMQdeHm",
        "colab_type": "text"
      },
      "source": [
        "\n",
        "Template subclasses can specify a custom delimiter. For example, a batch renaming utility for a photo browser may elect to use percent signs for placeholders such as the current date, image sequence number, or file format:\n"
      ]
    },
    {
      "cell_type": "code",
      "metadata": {
        "id": "3Rj-EExsdyRZ",
        "colab_type": "code",
        "colab": {}
      },
      "source": [
        "import time, os.path\n",
        "photofiles = ['img_1074.jpg', 'img_1076.jpg', 'img_1077.jpg']\n",
        "class BatchRename(Template):\n",
        "    delimiter = '%'\n",
        "fmt = input('Enter rename style (%d-date %n-seqnum %f-format):  ')\n",
        "\n",
        "t = BatchRename(fmt)\n",
        "date = time.strftime('%d%b%y')\n",
        "for i, filename in enumerate(photofiles):\n",
        "    base, ext = os.path.splitext(filename)\n",
        "    newname = t.substitute(d=date, n=i, f=ext)\n",
        "    print('{0} --> {1}'.format(filename, newname))"
      ],
      "execution_count": 0,
      "outputs": []
    },
    {
      "cell_type": "markdown",
      "metadata": {
        "id": "SLeqXqybd6pJ",
        "colab_type": "text"
      },
      "source": [
        "Another application for templating is separating program logic from the details of multiple output formats. This makes it possible to substitute custom templates for XML files, plain text reports, and HTML web reports.\n",
        "\n",
        "## 11.3. Working with Binary Data Record Layouts\n",
        "The struct module provides pack() and unpack() functions for working with variable length binary record formats. The following example shows how to loop through header information in a ZIP file without using the zipfile module. Pack codes \"H\" and \"I\" represent two and four byte unsigned numbers respectively. The \"<\" indicates that they are standard size and in little-endian byte order:\n"
      ]
    },
    {
      "cell_type": "markdown",
      "metadata": {
        "id": "VRU376S1eOtI",
        "colab_type": "text"
      },
      "source": [
        "```\n",
        "import struct\n",
        "\n",
        "with open('myfile.zip', 'rb') as f:\n",
        "    data = f.read()\n",
        "\n",
        "start = 0\n",
        "for i in range(3):                      # show the first 3 file headers\n",
        "    start += 14\n",
        "    fields = struct.unpack('<IIIHH', data[start:start+16])\n",
        "    crc32, comp_size, uncomp_size, filenamesize, extra_size = fields\n",
        "\n",
        "    start += 16\n",
        "    filename = data[start:start+filenamesize]\n",
        "    start += filenamesize\n",
        "    extra = data[start:start+extra_size]\n",
        "    print(filename, hex(crc32), comp_size, uncomp_size)\n",
        "\n",
        "    start += extra_size + comp_size     # skip to the next header\n",
        "   ```"
      ]
    },
    {
      "cell_type": "markdown",
      "metadata": {
        "id": "hQaN-CzOeSEr",
        "colab_type": "text"
      },
      "source": [
        "## 11.4. Multi-threading\n",
        "Threading is a technique for decoupling tasks which are not sequentially dependent. Threads can be used to improve the responsiveness of applications that accept user input while other tasks run in the background. A related use case is running I/O in parallel with computations in another thread.\n",
        "\n",
        "The following code shows how the high level threading module can run tasks in background while the main program continues to run:\n",
        "```\n",
        "import threading, zipfile\n",
        "\n",
        "class AsyncZip(threading.Thread):\n",
        "    def __init__(self, infile, outfile):\n",
        "        threading.Thread.__init__(self)\n",
        "        self.infile = infile\n",
        "        self.outfile = outfile\n",
        "\n",
        "    def run(self):\n",
        "        f = zipfile.ZipFile(self.outfile, 'w', zipfile.ZIP_DEFLATED)\n",
        "        f.write(self.infile)\n",
        "        f.close()\n",
        "        print('Finished background zip of:', self.infile)\n",
        "\n",
        "background = AsyncZip('mydata.txt', 'myarchive.zip')\n",
        "background.start()\n",
        "print('The main program continues to run in foreground.')\n",
        "\n",
        "background.join()    # Wait for the background task to finish\n",
        "print('Main program waited until background was done.')\n",
        "```\n",
        "\n",
        "The principal challenge of multi-threaded applications is coordinating threads that share data or other resources. To that end, the threading module provides a number of synchronization primitives including locks, events, condition variables, and semaphores.\n",
        "\n",
        "While those tools are powerful, minor design errors can result in problems that are difficult to reproduce. So, the preferred approach to task coordination is to concentrate all access to a resource in a single thread and then use the queue module to feed that thread with requests from other threads. Applications using Queue objects for inter-thread communication and coordination are easier to design, more readable, and more reliable.\n"
      ]
    },
    {
      "cell_type": "markdown",
      "metadata": {
        "id": "XjvqhnjjezNM",
        "colab_type": "text"
      },
      "source": [
        "## 11.5. Logging\n",
        "The logging module offers a full featured and flexible logging system. At its simplest, log messages are sent to a file or to sys.stderr:\n",
        "```\n",
        "import logging\n",
        "logging.debug('Debugging information')\n",
        "logging.info('Informational message')\n",
        "logging.warning('Warning:config file %s not found', 'server.conf')\n",
        "logging.error('Error occurred')\n",
        "logging.critical('Critical error -- shutting down')\n",
        "```\n",
        "This produces the following output:\n",
        "```\n",
        "WARNING:root:Warning:config file server.conf not found\n",
        "ERROR:root:Error occurred\n",
        "CRITICAL:root:Critical error -- shutting down\n",
        "```\n",
        "By default, informational and debugging messages are suppressed and the output is sent to standard error. Other output options include routing messages through email, datagrams, sockets, or to an HTTP Server. New filters can select different routing based on message priority: DEBUG, INFO, WARNING, ERROR, and CRITICAL.\n",
        "\n",
        "The logging system can be configured directly from Python or can be loaded from a user editable configuration file for customized logging without altering the application.\n"
      ]
    },
    {
      "cell_type": "markdown",
      "metadata": {
        "id": "karQa0Kye870",
        "colab_type": "text"
      },
      "source": [
        "## 11.6. Weak References\n",
        "Python does automatic memory management (reference counting for most objects and garbage collection to eliminate cycles). The memory is freed shortly after the last reference to it has been eliminated.\n",
        "\n",
        "This approach works fine for most applications but occasionally there is a need to track objects only as long as they are being used by something else. Unfortunately, just tracking them creates a reference that makes them permanent. The weakref module provides tools for tracking objects without creating a reference. When the object is no longer needed, it is automatically removed from a weakref table and a callback is triggered for weakref objects. Typical applications include caching objects that are expensive to create:\n"
      ]
    },
    {
      "cell_type": "code",
      "metadata": {
        "id": "VkKRGCQCfHVg",
        "colab_type": "code",
        "colab": {}
      },
      "source": [
        "import weakref, gc\n",
        "class A:\n",
        "    def __init__(self, value):\n",
        "        self.value = value\n",
        "    def __repr__(self):\n",
        "        return str(self.value)\n",
        "a = A(10)                   # create a reference\n",
        "d = weakref.WeakValueDictionary()\n",
        "d['primary'] = a            # does not create a reference\n",
        "d['primary']                # fetch the object if it is still alive\n"
      ],
      "execution_count": 0,
      "outputs": []
    },
    {
      "cell_type": "code",
      "metadata": {
        "id": "EbyA80imfOa4",
        "colab_type": "code",
        "colab": {}
      },
      "source": [
        "del a                       # remove the one reference\n",
        "gc.collect()                # run garbage collection right away\n"
      ],
      "execution_count": 0,
      "outputs": []
    },
    {
      "cell_type": "code",
      "metadata": {
        "id": "-iOHaM72fQXg",
        "colab_type": "code",
        "colab": {}
      },
      "source": [
        "d['primary']                # entry was automatically removed  "
      ],
      "execution_count": 0,
      "outputs": []
    },
    {
      "cell_type": "markdown",
      "metadata": {
        "id": "yVM8YgVHfFfi",
        "colab_type": "text"
      },
      "source": [
        "## 11.7. Tools for Working with Lists\n",
        "Many data structure needs can be met with the built-in list type. However, sometimes there is a need for alternative implementations with different performance trade-offs.\n",
        "\n",
        "The array module provides an array() object that is like a list that stores only homogeneous data and stores it more compactly. The following example shows an array of numbers stored as two byte unsigned binary numbers (typecode \"H\") rather than the usual 16 bytes per entry for regular lists of Python int objects:\n"
      ]
    },
    {
      "cell_type": "code",
      "metadata": {
        "id": "uCIcDpvXfUva",
        "colab_type": "code",
        "colab": {}
      },
      "source": [
        "from array import array\n",
        "a = array('H', [4000, 10, 700, 22222])\n",
        "sum(a)"
      ],
      "execution_count": 0,
      "outputs": []
    },
    {
      "cell_type": "code",
      "metadata": {
        "id": "ruryfu_CfdeP",
        "colab_type": "code",
        "colab": {}
      },
      "source": [
        "a[1:3]"
      ],
      "execution_count": 0,
      "outputs": []
    },
    {
      "cell_type": "markdown",
      "metadata": {
        "id": "CGI45ZYRfZbE",
        "colab_type": "text"
      },
      "source": [
        "\n",
        "The collections module provides a deque() object that is like a list with faster appends and pops from the left side but slower lookups in the middle. These objects are well suited for implementing queues and breadth first tree searches:\n"
      ]
    },
    {
      "cell_type": "code",
      "metadata": {
        "id": "-7361XfrfhXX",
        "colab_type": "code",
        "colab": {}
      },
      "source": [
        "from collections import deque\n",
        "d = deque([\"task1\", \"task2\", \"task3\"])\n",
        "d.append(\"task4\")\n",
        "print(\"Handling\", d.popleft())\n"
      ],
      "execution_count": 0,
      "outputs": []
    },
    {
      "cell_type": "code",
      "metadata": {
        "id": "4148kc1HfoaH",
        "colab_type": "code",
        "colab": {}
      },
      "source": [
        "unsearched = deque([starting_node])\n",
        "def breadth_first_search(unsearched):\n",
        "    node = unsearched.popleft()\n",
        "    for m in gen_moves(node):\n",
        "        if is_goal(m):\n",
        "            return m\n",
        "        unsearched.append(m)"
      ],
      "execution_count": 0,
      "outputs": []
    },
    {
      "cell_type": "markdown",
      "metadata": {
        "id": "LWC22P2Yfjq6",
        "colab_type": "text"
      },
      "source": [
        "\n",
        "In addition to alternative list implementations, the library also offers other tools such as the bisect module with functions for manipulating sorted lists:\n"
      ]
    },
    {
      "cell_type": "code",
      "metadata": {
        "id": "-lUSILIYfvgh",
        "colab_type": "code",
        "colab": {}
      },
      "source": [
        "import bisect\n",
        "scores = [(100, 'perl'), (200, 'tcl'), (400, 'lua'), (500, 'python')]\n",
        "bisect.insort(scores, (300, 'ruby'))\n",
        "scores"
      ],
      "execution_count": 0,
      "outputs": []
    },
    {
      "cell_type": "markdown",
      "metadata": {
        "id": "9rsMY1OSfyrh",
        "colab_type": "text"
      },
      "source": [
        "The heapq module provides functions for implementing heaps based on regular lists. The lowest valued entry is always kept at position zero. This is useful for applications which repeatedly access the smallest element but do not want to run a full list sort:"
      ]
    },
    {
      "cell_type": "code",
      "metadata": {
        "id": "X5tn8pfaf82z",
        "colab_type": "code",
        "colab": {}
      },
      "source": [
        "from heapq import heapify, heappop, heappush\n",
        "data = [1, 3, 5, 7, 9, 2, 4, 6, 8, 0]\n",
        "heapify(data)                      # rearrange the list into heap order\n",
        "heappush(data, -5)                 # add a new entry\n",
        "[heappop(data) for i in range(3)]  # fetch the three smallest entries"
      ],
      "execution_count": 0,
      "outputs": []
    },
    {
      "cell_type": "markdown",
      "metadata": {
        "id": "r21xMYaSgAMl",
        "colab_type": "text"
      },
      "source": [
        "## 11.8. Decimal Floating Point Arithmetic\n",
        "The decimal module offers a Decimal datatype for decimal floating point arithmetic. Compared to the built-in float implementation of binary floating point, the class is especially helpful for\n",
        "\n",
        "* financial applications and other uses which require exact decimal representation,\n",
        "* control over precision,\n",
        "*control over rounding to meet legal or regulatory requirements,\n",
        "* tracking of significant decimal places, or\n",
        "* applications where the user expects the results to match calculations done by hand.\n",
        "\n",
        "For example, calculating a 5% tax on a 70 cent phone charge gives different results in decimal floating point and binary floating point. The difference becomes significant if the results are rounded to the nearest cent:\n"
      ]
    },
    {
      "cell_type": "code",
      "metadata": {
        "id": "sBZ8LAepgTCy",
        "colab_type": "code",
        "colab": {}
      },
      "source": [
        "from decimal import *\n",
        "round(Decimal('0.70') * Decimal('1.05'), 2)\n"
      ],
      "execution_count": 0,
      "outputs": []
    },
    {
      "cell_type": "code",
      "metadata": {
        "id": "8f-BWGu9gYkC",
        "colab_type": "code",
        "colab": {}
      },
      "source": [
        "round(.70 * 1.05, 2)\n",
        "0.73"
      ],
      "execution_count": 0,
      "outputs": []
    },
    {
      "cell_type": "markdown",
      "metadata": {
        "id": "VhJ8ACp7gUmc",
        "colab_type": "text"
      },
      "source": [
        "The Decimal result keeps a trailing zero, automatically inferring four place significance from multiplicands with two place significance. Decimal reproduces mathematics as done by hand and avoids issues that can arise when binary floating point cannot exactly represent decimal quantities.\n",
        "\n",
        "Exact representation enables the Decimal class to perform modulo calculations and equality tests that are unsuitable for binary floating point:\n"
      ]
    },
    {
      "cell_type": "code",
      "metadata": {
        "id": "VllWTVtxgbDy",
        "colab_type": "code",
        "colab": {}
      },
      "source": [
        "Decimal('1.00') % Decimal('.10')\n"
      ],
      "execution_count": 0,
      "outputs": []
    },
    {
      "cell_type": "code",
      "metadata": {
        "id": "AMvU1cpRgcz6",
        "colab_type": "code",
        "colab": {}
      },
      "source": [
        "1.00 % 0.10\n"
      ],
      "execution_count": 0,
      "outputs": []
    },
    {
      "cell_type": "code",
      "metadata": {
        "id": "aP7QF01dgl5l",
        "colab_type": "code",
        "colab": {}
      },
      "source": [
        "sum([Decimal('0.1')]*10) == Decimal('1.0')\n"
      ],
      "execution_count": 0,
      "outputs": []
    },
    {
      "cell_type": "code",
      "metadata": {
        "id": "yE0moQVRgnOy",
        "colab_type": "code",
        "colab": {}
      },
      "source": [
        "sum([0.1]*10) == 1.0\n"
      ],
      "execution_count": 0,
      "outputs": []
    },
    {
      "cell_type": "markdown",
      "metadata": {
        "id": "mI0QFry5gpAJ",
        "colab_type": "text"
      },
      "source": [
        "The decimal module provides arithmetic with as much precision as needed:\n"
      ]
    },
    {
      "cell_type": "code",
      "metadata": {
        "id": "WxcRAsO5gqBV",
        "colab_type": "code",
        "colab": {}
      },
      "source": [
        "getcontext().prec = 36\n",
        "Decimal(1) / Decimal(7)"
      ],
      "execution_count": 0,
      "outputs": []
    }
  ]
}