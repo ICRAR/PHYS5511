{
  "nbformat": 4,
  "nbformat_minor": 0,
  "metadata": {
    "colab": {
      "name": "10_brief_tour_of_the_standard_library.ipynb",
      "version": "0.3.2",
      "provenance": []
    },
    "kernelspec": {
      "name": "python3",
      "display_name": "Python 3"
    }
  },
  "cells": [
    {
      "cell_type": "markdown",
      "metadata": {
        "id": "FeYHDPMRjzto",
        "colab_type": "text"
      },
      "source": [
        "# 10. Brief Tour of the Standard Library\n"
      ]
    },
    {
      "cell_type": "markdown",
      "metadata": {
        "id": "Ws47m17OkYeP",
        "colab_type": "text"
      },
      "source": [
        "10.1. Operating System Interface\n",
        "The `os` module provides dozens of functions for interacting with the operating system:\n",
        "\n"
      ]
    },
    {
      "cell_type": "code",
      "metadata": {
        "id": "Tlddg_zHldCm",
        "colab_type": "code",
        "colab": {}
      },
      "source": [
        "import os\n",
        "os.getcwd()      # Return the current working directory"
      ],
      "execution_count": 0,
      "outputs": []
    },
    {
      "cell_type": "code",
      "metadata": {
        "id": "cuKV8PMSluuG",
        "colab_type": "code",
        "colab": {}
      },
      "source": [
        "os.system('mkdir today')   # Run the command mkdir in the system shell\n",
        "os.chdir('today')   # Change current working directory"
      ],
      "execution_count": 0,
      "outputs": []
    },
    {
      "cell_type": "markdown",
      "metadata": {
        "id": "z6mdgJS6le8h",
        "colab_type": "text"
      },
      "source": [
        "Be sure to use the `import os` style instead of `from os import *`. This will keep `os.open()` from shadowing the built-in `open()` function which operates much differently.\n",
        "\n",
        "The built-in `dir()` and `help()` functions are useful as interactive aids for working with large modules like `os`:"
      ]
    },
    {
      "cell_type": "code",
      "metadata": {
        "id": "1ofbnCA9nlQu",
        "colab_type": "code",
        "colab": {}
      },
      "source": [
        "import os\n",
        "dir(os)"
      ],
      "execution_count": 0,
      "outputs": []
    },
    {
      "cell_type": "code",
      "metadata": {
        "id": "wgXmaJOsnxD_",
        "colab_type": "code",
        "colab": {}
      },
      "source": [
        "help(os)"
      ],
      "execution_count": 0,
      "outputs": []
    },
    {
      "cell_type": "markdown",
      "metadata": {
        "id": "5oOdUOqLnvsa",
        "colab_type": "text"
      },
      "source": [
        "For daily file and directory management tasks, the `shutil` module provides a higher level interface that is easier to use:"
      ]
    },
    {
      "cell_type": "code",
      "metadata": {
        "id": "n3kkE8ZXn35O",
        "colab_type": "code",
        "colab": {}
      },
      "source": [
        "import shutil\n",
        "shutil.copyfile('data.db', 'archive.db')\n",
        "\n",
        "shutil.move('/build/executables', 'installdir')"
      ],
      "execution_count": 0,
      "outputs": []
    },
    {
      "cell_type": "markdown",
      "metadata": {
        "id": "430sDhgpkdnf",
        "colab_type": "text"
      },
      "source": [
        "## 10.2. File Wildcards\n",
        "The `glob` module provides a function for making file lists from directory wildcard searches:\n",
        "\n"
      ]
    },
    {
      "cell_type": "code",
      "metadata": {
        "id": "yyHmOj4QoLZG",
        "colab_type": "code",
        "colab": {}
      },
      "source": [
        "import glob\n",
        "glob.glob('*.py')"
      ],
      "execution_count": 0,
      "outputs": []
    },
    {
      "cell_type": "markdown",
      "metadata": {
        "id": "GcJCH-q9kgXb",
        "colab_type": "text"
      },
      "source": [
        "## 10.3. Command Line Arguments\n",
        "Common utility scripts often need to process command line arguments. These arguments are stored in the `sys` module’s *argv* attribute as a list. For instance the following output results from *Google Colab* running the code shown below at the command line:"
      ]
    },
    {
      "cell_type": "code",
      "metadata": {
        "id": "LZ6aYNMkoeUd",
        "colab_type": "code",
        "colab": {}
      },
      "source": [
        "import sys\n",
        "print(sys.argv)"
      ],
      "execution_count": 0,
      "outputs": []
    },
    {
      "cell_type": "markdown",
      "metadata": {
        "id": "NYrJ-UeRoiI3",
        "colab_type": "text"
      },
      "source": [
        "The `getopt` module processes sys.argv using the conventions of the Unix `getopt()` function. More powerful and flexible command line processing is provided by the `argparse` module."
      ]
    },
    {
      "cell_type": "markdown",
      "metadata": {
        "id": "a92K7huQkidQ",
        "colab_type": "text"
      },
      "source": [
        "## 10.4. Error Output Redirection and Program Termination\n",
        "The `sys` module also has attributes for *stdin*, *stdout*, and *stderr*. The latter is useful for emitting warnings and error messages to make them visible even when *stdout* has been redirected:\n",
        "\n"
      ]
    },
    {
      "cell_type": "code",
      "metadata": {
        "id": "5HSeaXWopYu4",
        "colab_type": "code",
        "colab": {}
      },
      "source": [
        "sys.stderr.write('Warning, log file not found starting a new one\\n')"
      ],
      "execution_count": 0,
      "outputs": []
    },
    {
      "cell_type": "markdown",
      "metadata": {
        "id": "QyfGEjSNpetd",
        "colab_type": "text"
      },
      "source": [
        "The most direct way to terminate a script is to use `sys.exit()`."
      ]
    },
    {
      "cell_type": "markdown",
      "metadata": {
        "id": "3_bJLnU8kkP7",
        "colab_type": "text"
      },
      "source": [
        "## 10.5. String Pattern Matching\n",
        "The `re` module provides regular expression tools for advanced string processing. For complex matching and manipulation, regular expressions offer succinct, optimized solutions:\n",
        "\n"
      ]
    },
    {
      "cell_type": "code",
      "metadata": {
        "id": "L-rusydFp3il",
        "colab_type": "code",
        "colab": {}
      },
      "source": [
        "import re\n",
        "re.findall(r'\\bf[a-z]*', 'which foot or hand fell fastest')"
      ],
      "execution_count": 0,
      "outputs": []
    },
    {
      "cell_type": "code",
      "metadata": {
        "id": "-xwJUnySp65E",
        "colab_type": "code",
        "colab": {}
      },
      "source": [
        "re.sub(r'(\\b[a-z]+) \\1', r'\\1', 'cat in the the hat')"
      ],
      "execution_count": 0,
      "outputs": []
    },
    {
      "cell_type": "markdown",
      "metadata": {
        "id": "BCE4VkRTqBMh",
        "colab_type": "text"
      },
      "source": [
        "When only simple capabilities are needed, string methods are preferred because they are easier to read and debug:\n",
        "\n"
      ]
    },
    {
      "cell_type": "code",
      "metadata": {
        "id": "8M_drAkCqFd8",
        "colab_type": "code",
        "colab": {}
      },
      "source": [
        "'tea for too'.replace('too', 'two')"
      ],
      "execution_count": 0,
      "outputs": []
    },
    {
      "cell_type": "markdown",
      "metadata": {
        "id": "-gRuK4PDknQ3",
        "colab_type": "text"
      },
      "source": [
        "## 10.6. Mathematics\n",
        "The `math` module gives access to the underlying C library functions for floating point math:\n",
        "\n"
      ]
    },
    {
      "cell_type": "code",
      "metadata": {
        "id": "mER50qipqfG8",
        "colab_type": "code",
        "colab": {}
      },
      "source": [
        "import math\n",
        "math.cos(math.pi / 4)"
      ],
      "execution_count": 0,
      "outputs": []
    },
    {
      "cell_type": "code",
      "metadata": {
        "id": "iJhvLPhsqk4l",
        "colab_type": "code",
        "colab": {}
      },
      "source": [
        "math.log(1024, 2)"
      ],
      "execution_count": 0,
      "outputs": []
    },
    {
      "cell_type": "markdown",
      "metadata": {
        "id": "IE1aHBNwqg1A",
        "colab_type": "text"
      },
      "source": [
        "The `random` module provides tools for making random selections:"
      ]
    },
    {
      "cell_type": "code",
      "metadata": {
        "id": "qxy85pSoqrlb",
        "colab_type": "code",
        "colab": {}
      },
      "source": [
        "import random\n",
        "random.choice(['apple', 'pear', 'banana'])"
      ],
      "execution_count": 0,
      "outputs": []
    },
    {
      "cell_type": "code",
      "metadata": {
        "id": "tdURFa86qyqU",
        "colab_type": "code",
        "colab": {}
      },
      "source": [
        "random.sample(range(100), 10)   # sampling without replacement"
      ],
      "execution_count": 0,
      "outputs": []
    },
    {
      "cell_type": "code",
      "metadata": {
        "id": "se_mLiQDq1sZ",
        "colab_type": "code",
        "colab": {}
      },
      "source": [
        "random.random()    # random float"
      ],
      "execution_count": 0,
      "outputs": []
    },
    {
      "cell_type": "code",
      "metadata": {
        "id": "DamKG-kHq4XE",
        "colab_type": "code",
        "colab": {}
      },
      "source": [
        "random.randrange(6)    # random integer chosen from range(6)"
      ],
      "execution_count": 0,
      "outputs": []
    },
    {
      "cell_type": "markdown",
      "metadata": {
        "id": "kwxaR1tGqu-j",
        "colab_type": "text"
      },
      "source": [
        "The `statistics` module calculates basic statistical properties (the mean, median, variance, etc.) of numeric data:"
      ]
    },
    {
      "cell_type": "code",
      "metadata": {
        "id": "IPFxUjCurCKZ",
        "colab_type": "code",
        "colab": {}
      },
      "source": [
        "import statistics\n",
        "data = [2.75, 1.75, 1.25, 0.25, 0.5, 1.25, 3.5]\n",
        "statistics.mean(data)"
      ],
      "execution_count": 0,
      "outputs": []
    },
    {
      "cell_type": "code",
      "metadata": {
        "id": "GVgQw_5frJI7",
        "colab_type": "code",
        "colab": {}
      },
      "source": [
        "statistics.median(data)"
      ],
      "execution_count": 0,
      "outputs": []
    },
    {
      "cell_type": "code",
      "metadata": {
        "id": "-wu3nSPerMfy",
        "colab_type": "code",
        "colab": {}
      },
      "source": [
        "statistics.variance(data)"
      ],
      "execution_count": 0,
      "outputs": []
    },
    {
      "cell_type": "markdown",
      "metadata": {
        "id": "_LKGvbb3rFBX",
        "colab_type": "text"
      },
      "source": [
        "The SciPy project <https://scipy.org> has many other modules for numerical computations.\n",
        "\n"
      ]
    },
    {
      "cell_type": "markdown",
      "metadata": {
        "id": "HwohMmhCkpdM",
        "colab_type": "text"
      },
      "source": [
        "## 10.7. Internet Access\n",
        "There are a number of modules for accessing the internet and processing internet protocols. Two of the simplest are `urllib.request` for retrieving data from URLs and `smtplib` for sending mail:"
      ]
    },
    {
      "cell_type": "code",
      "metadata": {
        "id": "LcK4NzyuraGf",
        "colab_type": "code",
        "colab": {}
      },
      "source": [
        "from urllib.request import urlopen\n",
        "with urlopen('http://tycho.usno.navy.mil/cgi-bin/timer.pl') as response:\n",
        "  for line in response:\n",
        "    line = line.decode('utf-8')  # Decoding the binary data to text.\n",
        "    if 'EST' in line or 'EDT' in line:  # look for Eastern Time\n",
        "      print(line)"
      ],
      "execution_count": 0,
      "outputs": []
    },
    {
      "cell_type": "code",
      "metadata": {
        "id": "b75KFdeorhOu",
        "colab_type": "code",
        "colab": {}
      },
      "source": [
        "import smtplib\n",
        "server = smtplib.SMTP('localhost')\n",
        "server.sendmail('soothsayer@example.org', 'jcaesar@example.org',\n",
        "\"\"\"To: jcaesar@example.org\n",
        "From: soothsayer@example.org\n",
        "\n",
        "Beware the Ides of March.\n",
        "\"\"\")\n",
        "server.quit()"
      ],
      "execution_count": 0,
      "outputs": []
    },
    {
      "cell_type": "markdown",
      "metadata": {
        "id": "--u1BxB6r5vF",
        "colab_type": "text"
      },
      "source": [
        "(Note that the second example needs a mailserver running on localhost.)"
      ]
    },
    {
      "cell_type": "markdown",
      "metadata": {
        "id": "Eel4zfxRkrc2",
        "colab_type": "text"
      },
      "source": [
        "## 10.8. Dates and Times\n",
        "The `datetime` module supplies classes for manipulating dates and times in both simple and complex ways. While date and time arithmetic is supported, the focus of the implementation is on efficient member extraction for output formatting and manipulation. The module also supports objects that are timezone aware.\n",
        "\n"
      ]
    },
    {
      "cell_type": "code",
      "metadata": {
        "id": "ZVlBxPH0sGZi",
        "colab_type": "code",
        "colab": {}
      },
      "source": [
        "# dates are easily constructed and formatted\n",
        "from datetime import date\n",
        "now = date.today()\n",
        "now"
      ],
      "execution_count": 0,
      "outputs": []
    },
    {
      "cell_type": "code",
      "metadata": {
        "id": "MtHUXAqUsMi_",
        "colab_type": "code",
        "colab": {}
      },
      "source": [
        "now.strftime(\"%m-%d-%y. %d %b %Y is a %A on the %d day of %B.\")"
      ],
      "execution_count": 0,
      "outputs": []
    },
    {
      "cell_type": "code",
      "metadata": {
        "id": "c6F2MjY0sTa0",
        "colab_type": "code",
        "colab": {}
      },
      "source": [
        "# dates support calendar arithmetic\n",
        "birthday = date(1964, 7, 31)\n",
        "age = now - birthday\n",
        "age.days"
      ],
      "execution_count": 0,
      "outputs": []
    },
    {
      "cell_type": "markdown",
      "metadata": {
        "id": "kP-TlytLktZu",
        "colab_type": "text"
      },
      "source": [
        "## 10.9. Data Compression\n",
        "Common data archiving and compression formats are directly supported by modules including: `zlib`, `gzip`, `bz2`, `lzma`, `zipfile` and `tarfile`.\n",
        "\n"
      ]
    },
    {
      "cell_type": "code",
      "metadata": {
        "id": "B7M9dKcIsmqg",
        "colab_type": "code",
        "colab": {}
      },
      "source": [
        "import zlib\n",
        "s = b'witch which has which witches wrist watch'\n",
        "len(s)"
      ],
      "execution_count": 0,
      "outputs": []
    },
    {
      "cell_type": "code",
      "metadata": {
        "id": "yVVCi5_JsvNG",
        "colab_type": "code",
        "colab": {}
      },
      "source": [
        "t = zlib.compress(s)\n",
        "len(t)"
      ],
      "execution_count": 0,
      "outputs": []
    },
    {
      "cell_type": "code",
      "metadata": {
        "id": "iKKaLSIfs0jK",
        "colab_type": "code",
        "colab": {}
      },
      "source": [
        "zlib.decompress(t)"
      ],
      "execution_count": 0,
      "outputs": []
    },
    {
      "cell_type": "code",
      "metadata": {
        "id": "QqOE3310s38L",
        "colab_type": "code",
        "colab": {}
      },
      "source": [
        "zlib.crc32(s)"
      ],
      "execution_count": 0,
      "outputs": []
    },
    {
      "cell_type": "markdown",
      "metadata": {
        "id": "jENP1r6EkvS2",
        "colab_type": "text"
      },
      "source": [
        "## 10.10. Performance Measurement\n",
        "Some Python users develop a deep interest in knowing the relative performance of different approaches to the same problem. Python provides a measurement tool that answers those questions immediately.\n",
        "\n",
        "For example, it may be tempting to use the tuple packing and unpacking feature instead of the traditional approach to swapping arguments. The `timeit` module quickly demonstrates a modest performance advantage:"
      ]
    },
    {
      "cell_type": "code",
      "metadata": {
        "id": "v2x-JxjgtHz3",
        "colab_type": "code",
        "colab": {}
      },
      "source": [
        "from timeit import Timer\n",
        "Timer('t=a; a=b; b=t', 'a=1; b=2').timeit()"
      ],
      "execution_count": 0,
      "outputs": []
    },
    {
      "cell_type": "code",
      "metadata": {
        "id": "CGmjJ-g_tQul",
        "colab_type": "code",
        "colab": {}
      },
      "source": [
        "Timer('a,b = b,a', 'a=1; b=2').timeit()"
      ],
      "execution_count": 0,
      "outputs": []
    },
    {
      "cell_type": "markdown",
      "metadata": {
        "id": "BKap4KybtL6v",
        "colab_type": "text"
      },
      "source": [
        "In contrast to `timeit`’s fine level of granularity, the `profile` and `pstats` modules provide tools for identifying time critical sections in larger blocks of code."
      ]
    },
    {
      "cell_type": "markdown",
      "metadata": {
        "id": "Da12GBG7kw-Z",
        "colab_type": "text"
      },
      "source": [
        "## 10.11. Quality Control\n",
        "One approach for developing high quality software is to write tests for each function as it is developed and to run those tests frequently during the development process.\n",
        "\n",
        "The `doctest` module provides a tool for scanning a module and validating tests embedded in a program’s docstrings. Test construction is as simple as cutting-and-pasting a typical call along with its results into the docstring. This improves the documentation by providing the user with an example and it allows the doctest module to make sure the code remains true to the documentation:\n",
        "\n"
      ]
    },
    {
      "cell_type": "code",
      "metadata": {
        "id": "R4kZ2-ZUtiuU",
        "colab_type": "code",
        "colab": {}
      },
      "source": [
        "def average(values):\n",
        "    \"\"\"Computes the arithmetic mean of a list of numbers.\n",
        "\n",
        "    >>> print(average([20, 30, 70]))\n",
        "    40.0\n",
        "    \"\"\"\n",
        "    return sum(values) / len(values)\n",
        "\n",
        "import doctest\n",
        "doctest.testmod()   # automatically validate the embedded tests"
      ],
      "execution_count": 0,
      "outputs": []
    },
    {
      "cell_type": "markdown",
      "metadata": {
        "id": "uFi5iSYTtkpa",
        "colab_type": "text"
      },
      "source": [
        "The `unittest` module is not as effortless as the `doctest` module, but it allows a more comprehensive set of tests to be maintained in a separate file:\n",
        "\n"
      ]
    },
    {
      "cell_type": "code",
      "metadata": {
        "id": "i5SMmWo5t2UU",
        "colab_type": "code",
        "colab": {}
      },
      "source": [
        "import unittest\n",
        "\n",
        "class TestStatisticalFunctions(unittest.TestCase):\n",
        "\n",
        "    def test_average(self):\n",
        "        self.assertEqual(average([20, 30, 70]), 40.0)\n",
        "        self.assertEqual(round(average([1, 5, 7]), 1), 4.3)\n",
        "        with self.assertRaises(ZeroDivisionError):\n",
        "            average([])\n",
        "        with self.assertRaises(TypeError):\n",
        "            average(20, 30, 70)\n",
        "\n",
        "unittest.main()  # Calling from the command line invokes all tests\n"
      ],
      "execution_count": 0,
      "outputs": []
    },
    {
      "cell_type": "markdown",
      "metadata": {
        "id": "6hzpDCHyky76",
        "colab_type": "text"
      },
      "source": [
        "## 10.12. Batteries Included\n",
        "Python has a “batteries included” philosophy. This is best seen through the sophisticated and robust capabilities of its larger packages. For example:\n",
        "\n",
        "* The `xmlrpc.client` and `xmlrpc.server` modules make implementing remote procedure calls into an almost trivial task. Despite the modules names, no direct knowledge or handling of XML is needed.\n",
        "* The `email` package is a library for managing email messages, including MIME and other RFC 2822-based message documents. Unlike `smtplib` and `poplib` which actually send and receive messages, the email package has a complete toolset for building or decoding complex message structures (including attachments) and for implementing internet encoding and header protocols.\n",
        "* The `json` package provides robust support for parsing this popular data interchange format. The `csv` module supports direct reading and writing of files in Comma-Separated Value format, commonly supported by databases and spreadsheets. XML processing is supported by the `xml.etree.ElementTree`, `xml.dom` and `xml.sax` packages. Together, these modules and packages greatly simplify data interchange between Python applications and other tools.\n",
        "* The `sqlite3` module is a wrapper for the SQLite database library, providing a persistent database that can be updated and accessed using slightly nonstandard SQL syntax.\n",
        "* Internationalization is supported by a number of modules including `gettext`, `locale`, and the `codecs` package."
      ]
    }
  ]
}