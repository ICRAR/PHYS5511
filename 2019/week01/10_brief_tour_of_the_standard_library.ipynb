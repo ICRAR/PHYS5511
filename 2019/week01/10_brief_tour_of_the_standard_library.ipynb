{
  "nbformat": 4,
  "nbformat_minor": 0,
  "metadata": {
    "colab": {
      "name": "10_brief_tour_of_the_standard_library.ipynb",
      "version": "0.3.2",
      "provenance": []
    },
    "kernelspec": {
      "name": "python3",
      "display_name": "Python 3"
    }
  },
  "cells": [
    {
      "cell_type": "markdown",
      "metadata": {
        "id": "FeYHDPMRjzto",
        "colab_type": "text"
      },
      "source": [
        "# 10. Brief Tour of the Standard Library\n"
      ]
    },
    {
      "cell_type": "markdown",
      "metadata": {
        "id": "Ws47m17OkYeP",
        "colab_type": "text"
      },
      "source": [
        "10.1. Operating System Interface\n",
        "The os module provides dozens of functions for interacting with the operating system:\n",
        "\n",
        ">>>\n",
        ">>> import os\n",
        ">>> os.getcwd()      # Return the current working directory\n",
        "'C:\\\\Python37'\n",
        ">>> os.chdir('/server/accesslogs')   # Change current working directory\n",
        ">>> os.system('mkdir today')   # Run the command mkdir in the system shell\n",
        "0\n",
        "Be sure to use the import os style instead of from os import *. This will keep os.open() from shadowing the built-in open() function which operates much differently.\n",
        "\n",
        "The built-in dir() and help() functions are useful as interactive aids for working with large modules like os:\n",
        "\n",
        ">>>\n",
        ">>> import os\n",
        ">>> dir(os)\n",
        "<returns a list of all module functions>\n",
        ">>> help(os)\n",
        "<returns an extensive manual page created from the module's docstrings>\n",
        "For daily file and directory management tasks, the shutil module provides a higher level interface that is easier to use:\n",
        "\n",
        ">>>\n",
        ">>> import shutil\n",
        ">>> shutil.copyfile('data.db', 'archive.db')\n",
        "'archive.db'\n",
        ">>> shutil.move('/build/executables', 'installdir')\n",
        "'installdir'\n"
      ]
    },
    {
      "cell_type": "markdown",
      "metadata": {
        "id": "430sDhgpkdnf",
        "colab_type": "text"
      },
      "source": [
        "## 10.2. File Wildcards\n",
        "The glob module provides a function for making file lists from directory wildcard searches:\n",
        "\n",
        ">>>\n",
        ">>> import glob\n",
        ">>> glob.glob('*.py')\n",
        "['primes.py', 'random.py', 'quote.py']\n"
      ]
    },
    {
      "cell_type": "markdown",
      "metadata": {
        "id": "GcJCH-q9kgXb",
        "colab_type": "text"
      },
      "source": [
        "## 10.3. Command Line Arguments\n",
        "Common utility scripts often need to process command line arguments. These arguments are stored in the sys module’s argv attribute as a list. For instance the following output results from running python demo.py one two three at the command line:\n",
        "\n",
        ">>>\n",
        ">>> import sys\n",
        ">>> print(sys.argv)\n",
        "['demo.py', 'one', 'two', 'three']\n",
        "The getopt module processes sys.argv using the conventions of the Unix getopt() function. More powerful and flexible command line processing is provided by the argparse module.\n",
        "\n"
      ]
    },
    {
      "cell_type": "markdown",
      "metadata": {
        "id": "a92K7huQkidQ",
        "colab_type": "text"
      },
      "source": [
        "## 10.4. Error Output Redirection and Program Termination\n",
        "The sys module also has attributes for stdin, stdout, and stderr. The latter is useful for emitting warnings and error messages to make them visible even when stdout has been redirected:\n",
        "\n",
        ">>>\n",
        ">>> sys.stderr.write('Warning, log file not found starting a new one\\n')\n",
        "Warning, log file not found starting a new one\n",
        "The most direct way to terminate a script is to use sys.exit().\n",
        "\n"
      ]
    },
    {
      "cell_type": "markdown",
      "metadata": {
        "id": "3_bJLnU8kkP7",
        "colab_type": "text"
      },
      "source": [
        "## 10.5. String Pattern Matching\n",
        "The re module provides regular expression tools for advanced string processing. For complex matching and manipulation, regular expressions offer succinct, optimized solutions:\n",
        "\n",
        ">>>\n",
        ">>> import re\n",
        ">>> re.findall(r'\\bf[a-z]*', 'which foot or hand fell fastest')\n",
        "['foot', 'fell', 'fastest']\n",
        ">>> re.sub(r'(\\b[a-z]+) \\1', r'\\1', 'cat in the the hat')\n",
        "'cat in the hat'\n",
        "When only simple capabilities are needed, string methods are preferred because they are easier to read and debug:\n",
        "\n",
        ">>>\n",
        ">>> 'tea for too'.replace('too', 'two')\n",
        "'tea for two'\n"
      ]
    },
    {
      "cell_type": "markdown",
      "metadata": {
        "id": "-gRuK4PDknQ3",
        "colab_type": "text"
      },
      "source": [
        "## 10.6. Mathematics\n",
        "The math module gives access to the underlying C library functions for floating point math:\n",
        "\n",
        ">>>\n",
        ">>> import math\n",
        ">>> math.cos(math.pi / 4)\n",
        "0.70710678118654757\n",
        ">>> math.log(1024, 2)\n",
        "10.0\n",
        "The random module provides tools for making random selections:\n",
        "\n",
        ">>>\n",
        ">>> import random\n",
        ">>> random.choice(['apple', 'pear', 'banana'])\n",
        "'apple'\n",
        ">>> random.sample(range(100), 10)   # sampling without replacement\n",
        "[30, 83, 16, 4, 8, 81, 41, 50, 18, 33]\n",
        ">>> random.random()    # random float\n",
        "0.17970987693706186\n",
        ">>> random.randrange(6)    # random integer chosen from range(6)\n",
        "4\n",
        "The statistics module calculates basic statistical properties (the mean, median, variance, etc.) of numeric data:\n",
        "\n",
        ">>>\n",
        ">>> import statistics\n",
        ">>> data = [2.75, 1.75, 1.25, 0.25, 0.5, 1.25, 3.5]\n",
        ">>> statistics.mean(data)\n",
        "1.6071428571428572\n",
        ">>> statistics.median(data)\n",
        "1.25\n",
        ">>> statistics.variance(data)\n",
        "1.3720238095238095\n",
        "The SciPy project <https://scipy.org> has many other modules for numerical computations.\n",
        "\n"
      ]
    },
    {
      "cell_type": "markdown",
      "metadata": {
        "id": "HwohMmhCkpdM",
        "colab_type": "text"
      },
      "source": [
        "## 10.7. Internet Access\n",
        "There are a number of modules for accessing the internet and processing internet protocols. Two of the simplest are urllib.request for retrieving data from URLs and smtplib for sending mail:\n",
        "\n",
        ">>>\n",
        ">>> from urllib.request import urlopen\n",
        ">>> with urlopen('http://tycho.usno.navy.mil/cgi-bin/timer.pl') as response:\n",
        "...     for line in response:\n",
        "...         line = line.decode('utf-8')  # Decoding the binary data to text.\n",
        "...         if 'EST' in line or 'EDT' in line:  # look for Eastern Time\n",
        "...             print(line)\n",
        "\n",
        "<BR>Nov. 25, 09:43:32 PM EST\n",
        "\n",
        ">>> import smtplib\n",
        ">>> server = smtplib.SMTP('localhost')\n",
        ">>> server.sendmail('soothsayer@example.org', 'jcaesar@example.org',\n",
        "... \"\"\"To: jcaesar@example.org\n",
        "... From: soothsayer@example.org\n",
        "...\n",
        "... Beware the Ides of March.\n",
        "... \"\"\")\n",
        ">>> server.quit()\n",
        "(Note that the second example needs a mailserver running on localhost.)\n",
        "\n"
      ]
    },
    {
      "cell_type": "markdown",
      "metadata": {
        "id": "Eel4zfxRkrc2",
        "colab_type": "text"
      },
      "source": [
        "## 10.8. Dates and Times\n",
        "The datetime module supplies classes for manipulating dates and times in both simple and complex ways. While date and time arithmetic is supported, the focus of the implementation is on efficient member extraction for output formatting and manipulation. The module also supports objects that are timezone aware.\n",
        "\n",
        ">>>\n",
        ">>> # dates are easily constructed and formatted\n",
        ">>> from datetime import date\n",
        ">>> now = date.today()\n",
        ">>> now\n",
        "datetime.date(2003, 12, 2)\n",
        ">>> now.strftime(\"%m-%d-%y. %d %b %Y is a %A on the %d day of %B.\")\n",
        "'12-02-03. 02 Dec 2003 is a Tuesday on the 02 day of December.'\n",
        "\n",
        ">>> # dates support calendar arithmetic\n",
        ">>> birthday = date(1964, 7, 31)\n",
        ">>> age = now - birthday\n",
        ">>> age.days\n",
        "14368\n"
      ]
    },
    {
      "cell_type": "markdown",
      "metadata": {
        "id": "kP-TlytLktZu",
        "colab_type": "text"
      },
      "source": [
        "## 10.9. Data Compression\n",
        "Common data archiving and compression formats are directly supported by modules including: zlib, gzip, bz2, lzma, zipfile and tarfile.\n",
        "\n",
        ">>>\n",
        ">>> import zlib\n",
        ">>> s = b'witch which has which witches wrist watch'\n",
        ">>> len(s)\n",
        "41\n",
        ">>> t = zlib.compress(s)\n",
        ">>> len(t)\n",
        "37\n",
        ">>> zlib.decompress(t)\n",
        "b'witch which has which witches wrist watch'\n",
        ">>> zlib.crc32(s)\n",
        "226805979\n"
      ]
    },
    {
      "cell_type": "markdown",
      "metadata": {
        "id": "jENP1r6EkvS2",
        "colab_type": "text"
      },
      "source": [
        "## 10.10. Performance Measurement\n",
        "Some Python users develop a deep interest in knowing the relative performance of different approaches to the same problem. Python provides a measurement tool that answers those questions immediately.\n",
        "\n",
        "For example, it may be tempting to use the tuple packing and unpacking feature instead of the traditional approach to swapping arguments. The timeit module quickly demonstrates a modest performance advantage:\n",
        "\n",
        ">>>\n",
        ">>> from timeit import Timer\n",
        ">>> Timer('t=a; a=b; b=t', 'a=1; b=2').timeit()\n",
        "0.57535828626024577\n",
        ">>> Timer('a,b = b,a', 'a=1; b=2').timeit()\n",
        "0.54962537085770791\n",
        "In contrast to timeit’s fine level of granularity, the profile and pstats modules provide tools for identifying time critical sections in larger blocks of code.\n",
        "\n"
      ]
    },
    {
      "cell_type": "markdown",
      "metadata": {
        "id": "Da12GBG7kw-Z",
        "colab_type": "text"
      },
      "source": [
        "## 10.11. Quality Control\n",
        "One approach for developing high quality software is to write tests for each function as it is developed and to run those tests frequently during the development process.\n",
        "\n",
        "The doctest module provides a tool for scanning a module and validating tests embedded in a program’s docstrings. Test construction is as simple as cutting-and-pasting a typical call along with its results into the docstring. This improves the documentation by providing the user with an example and it allows the doctest module to make sure the code remains true to the documentation:\n",
        "\n",
        "def average(values):\n",
        "    \"\"\"Computes the arithmetic mean of a list of numbers.\n",
        "\n",
        "    >>> print(average([20, 30, 70]))\n",
        "    40.0\n",
        "    \"\"\"\n",
        "    return sum(values) / len(values)\n",
        "\n",
        "import doctest\n",
        "doctest.testmod()   # automatically validate the embedded tests\n",
        "The unittest module is not as effortless as the doctest module, but it allows a more comprehensive set of tests to be maintained in a separate file:\n",
        "\n",
        "import unittest\n",
        "\n",
        "class TestStatisticalFunctions(unittest.TestCase):\n",
        "\n",
        "    def test_average(self):\n",
        "        self.assertEqual(average([20, 30, 70]), 40.0)\n",
        "        self.assertEqual(round(average([1, 5, 7]), 1), 4.3)\n",
        "        with self.assertRaises(ZeroDivisionError):\n",
        "            average([])\n",
        "        with self.assertRaises(TypeError):\n",
        "            average(20, 30, 70)\n",
        "\n",
        "unittest.main()  # Calling from the command line invokes all tests\n"
      ]
    },
    {
      "cell_type": "markdown",
      "metadata": {
        "id": "6hzpDCHyky76",
        "colab_type": "text"
      },
      "source": [
        "## 10.12. Batteries Included\n",
        "Python has a “batteries included” philosophy. This is best seen through the sophisticated and robust capabilities of its larger packages. For example:\n",
        "\n",
        "The xmlrpc.client and xmlrpc.server modules make implementing remote procedure calls into an almost trivial task. Despite the modules names, no direct knowledge or handling of XML is needed.\n",
        "\n",
        "The email package is a library for managing email messages, including MIME and other RFC 2822-based message documents. Unlike smtplib and poplib which actually send and receive messages, the email package has a complete toolset for building or decoding complex message structures (including attachments) and for implementing internet encoding and header protocols.\n",
        "\n",
        "The json package provides robust support for parsing this popular data interchange format. The csv module supports direct reading and writing of files in Comma-Separated Value format, commonly supported by databases and spreadsheets. XML processing is supported by the xml.etree.ElementTree, xml.dom and xml.sax packages. Together, these modules and packages greatly simplify data interchange between Python applications and other tools.\n",
        "\n",
        "The sqlite3 module is a wrapper for the SQLite database library, providing a persistent database that can be updated and accessed using slightly nonstandard SQL syntax.\n",
        "\n",
        "Internationalization is supported by a number of modules including gettext, locale, and the codecs package."
      ]
    }
  ]
}